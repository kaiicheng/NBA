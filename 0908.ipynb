{
 "cells": [
  {
   "cell_type": "code",
   "execution_count": 1,
   "metadata": {},
   "outputs": [],
   "source": [
    "from pyvizml import CreateNBAData\n",
    "import requests\n",
    "import numpy as np\n",
    "import pandas as pd\n",
    "import matplotlib.pyplot as plt\n",
    "from sklearn.model_selection import train_test_split\n",
    "from sklearn.linear_model import LinearRegression\n",
    "from sklearn.preprocessing import MinMaxScaler\n",
    "from sklearn.preprocessing import StandardScaler\n",
    "from pyvizml import GradientDescent\n",
    "from sklearn.linear_model import LogisticRegression\n",
    "from sklearn.preprocessing import LabelEncoder\n",
    "from sklearn.preprocessing import OneHotEncoder"
   ]
  },
  {
   "cell_type": "code",
   "execution_count": 2,
   "metadata": {},
   "outputs": [
    {
     "name": "stdout",
     "output_type": "stream",
     "text": [
      "30774.03773616199\n",
      "[98.50395317]\n"
     ]
    }
   ],
   "source": [
    "train = pd.read_csv(\"https://kaggle-getting-started.s3-ap-northeast-1.amazonaws.com/house-prices/train.csv\")\n",
    "X = train['GrLivArea'].values.reshape(-1, 1)\n",
    "y = train['SalePrice'].values\n",
    "X_train, X_valid, y_train, y_valid = train_test_split(X, y, test_size=0.33, random_state=42)\n",
    "lr = LinearRegression()\n",
    "lr.fit(X_train, y_train)\n",
    "print(lr.intercept_) # w_0\n",
    "print(lr.coef_) # w_1"
   ]
  },
  {
   "cell_type": "code",
   "execution_count": 3,
   "metadata": {},
   "outputs": [
    {
     "data": {
      "text/plain": [
       "array([[1710],\n",
       "       [1262],\n",
       "       [1786],\n",
       "       ...,\n",
       "       [2340],\n",
       "       [1078],\n",
       "       [1256]], dtype=int64)"
      ]
     },
     "execution_count": 3,
     "metadata": {},
     "output_type": "execute_result"
    }
   ],
   "source": [
    "X"
   ]
  },
  {
   "cell_type": "code",
   "execution_count": 4,
   "metadata": {},
   "outputs": [
    {
     "data": {
      "text/plain": [
       "334"
      ]
     },
     "execution_count": 4,
     "metadata": {},
     "output_type": "execute_result"
    }
   ],
   "source": [
    "X.max() - X.min() # 5308\n",
    "X.min() # 334"
   ]
  },
  {
   "cell_type": "code",
   "execution_count": 5,
   "metadata": {},
   "outputs": [
    {
     "data": {
      "text/plain": [
       "array([[0.25923135],\n",
       "       [0.17483044],\n",
       "       [0.27354936],\n",
       "       ...,\n",
       "       [0.37792012],\n",
       "       [0.14016579],\n",
       "       [0.17370008]])"
      ]
     },
     "execution_count": 5,
     "metadata": {},
     "output_type": "execute_result"
    }
   ],
   "source": [
    "mms = MinMaxScaler()\n",
    "X_scaled = mms.fit_transform(X)\n",
    "X_scaled"
   ]
  },
  {
   "cell_type": "code",
   "execution_count": 6,
   "metadata": {},
   "outputs": [
    {
     "data": {
      "text/plain": [
       "array([334.])"
      ]
     },
     "execution_count": 6,
     "metadata": {},
     "output_type": "execute_result"
    }
   ],
   "source": [
    "mms.data_range_ # [5308]\n",
    "mms.data_min_ # [334]"
   ]
  },
  {
   "cell_type": "code",
   "execution_count": 7,
   "metadata": {},
   "outputs": [
    {
     "data": {
      "text/plain": [
       "array([[0.25923135],\n",
       "       [0.17483044],\n",
       "       [0.27354936],\n",
       "       ...,\n",
       "       [0.37792012],\n",
       "       [0.14016579],\n",
       "       [0.17370008]])"
      ]
     },
     "execution_count": 7,
     "metadata": {},
     "output_type": "execute_result"
    }
   ],
   "source": [
    "(X - X.min()) / (X.max() - X.min())"
   ]
  },
  {
   "cell_type": "code",
   "execution_count": 8,
   "metadata": {},
   "outputs": [
    {
     "name": "stdout",
     "output_type": "stream",
     "text": [
      "epoch:      0 - loss: 38574693099.827255\n",
      "epoch:  10000 - loss: 3197795772.921622\n",
      "epoch:  20000 - loss: 3142864603.110587\n",
      "epoch:  30000 - loss: 3141503145.540297\n",
      "epoch:  40000 - loss: 3141469402.098785\n",
      "epoch:  50000 - loss: 3141468565.774635\n",
      "epoch:  60000 - loss: 3141468545.046515\n",
      "epoch:  70000 - loss: 3141468544.532774\n",
      "epoch:  80000 - loss: 3141468544.520041\n",
      "epoch:  90000 - loss: 3141468544.519726\n"
     ]
    }
   ],
   "source": [
    "X_train, X_valid, y_train, y_valid = train_test_split(X_scaled, y, test_size=0.33, random_state=42)\n",
    "gd = GradientDescent()\n",
    "gd.fit(X_train, y_train, epochs=100000, learning_rate=0.01)"
   ]
  },
  {
   "cell_type": "code",
   "execution_count": 9,
   "metadata": {},
   "outputs": [
    {
     "name": "stdout",
     "output_type": "stream",
     "text": [
      "63674.359120602545\n",
      "[522858.97891743]\n"
     ]
    }
   ],
   "source": [
    "print(gd.intercept_) # w_0_scaled\n",
    "print(gd.coef_)      # w_1_scaled"
   ]
  },
  {
   "cell_type": "code",
   "execution_count": 10,
   "metadata": {},
   "outputs": [
    {
     "data": {
      "text/plain": [
       "array([30774.03904554])"
      ]
     },
     "execution_count": 10,
     "metadata": {},
     "output_type": "execute_result"
    }
   ],
   "source": [
    "gd.intercept_ - (mms.data_min_ / mms.data_range_) * gd.coef_ # w_0"
   ]
  },
  {
   "cell_type": "code",
   "execution_count": 11,
   "metadata": {},
   "outputs": [
    {
     "data": {
      "text/plain": [
       "array([98.50395232])"
      ]
     },
     "execution_count": 11,
     "metadata": {},
     "output_type": "execute_result"
    }
   ],
   "source": [
    "gd.coef_ / mms.data_range_ # w_1"
   ]
  },
  {
   "cell_type": "code",
   "execution_count": 12,
   "metadata": {},
   "outputs": [
    {
     "data": {
      "text/plain": [
       "array([[ 0.37033344],\n",
       "       [-0.48251191],\n",
       "       [ 0.51501256],\n",
       "       ...,\n",
       "       [ 1.56964722],\n",
       "       [-0.83278768],\n",
       "       [-0.49393395]])"
      ]
     },
     "execution_count": 12,
     "metadata": {},
     "output_type": "execute_result"
    }
   ],
   "source": [
    "ss = StandardScaler()\n",
    "X_scaled = ss.fit_transform(X)\n",
    "X_scaled"
   ]
  },
  {
   "cell_type": "code",
   "execution_count": 13,
   "metadata": {},
   "outputs": [
    {
     "data": {
      "text/plain": [
       "array([525.30039356])"
      ]
     },
     "execution_count": 13,
     "metadata": {},
     "output_type": "execute_result"
    }
   ],
   "source": [
    "ss.mean_ # 1515.46369863\n",
    "ss.scale_ # 525.30039356"
   ]
  },
  {
   "cell_type": "code",
   "execution_count": 14,
   "metadata": {},
   "outputs": [
    {
     "data": {
      "text/plain": [
       "525.3003935623227"
      ]
     },
     "execution_count": 14,
     "metadata": {},
     "output_type": "execute_result"
    }
   ],
   "source": [
    "X.mean()\n",
    "X.std()"
   ]
  },
  {
   "cell_type": "code",
   "execution_count": 15,
   "metadata": {},
   "outputs": [
    {
     "data": {
      "text/plain": [
       "array([[ 0.37033344],\n",
       "       [-0.48251191],\n",
       "       [ 0.51501256],\n",
       "       ...,\n",
       "       [ 1.56964722],\n",
       "       [-0.83278768],\n",
       "       [-0.49393395]])"
      ]
     },
     "execution_count": 15,
     "metadata": {},
     "output_type": "execute_result"
    }
   ],
   "source": [
    "(X - X.mean()) / X.std()"
   ]
  },
  {
   "cell_type": "code",
   "execution_count": 16,
   "metadata": {},
   "outputs": [
    {
     "name": "stdout",
     "output_type": "stream",
     "text": [
      "epoch:      0 - loss: 38574701424.678940\n",
      "epoch:  10000 - loss: 3141468544.519717\n",
      "epoch:  20000 - loss: 3141468544.519717\n",
      "epoch:  30000 - loss: 3141468544.519717\n",
      "epoch:  40000 - loss: 3141468544.519717\n",
      "epoch:  50000 - loss: 3141468544.519717\n",
      "epoch:  60000 - loss: 3141468544.519717\n",
      "epoch:  70000 - loss: 3141468544.519717\n",
      "epoch:  80000 - loss: 3141468544.519717\n",
      "epoch:  90000 - loss: 3141468544.519717\n"
     ]
    }
   ],
   "source": [
    "X_train, X_valid, y_train, y_valid = train_test_split(X_scaled, y, test_size=0.33, random_state=42)\n",
    "gd = GradientDescent()\n",
    "gd.fit(X_train, y_train, epochs=100000, learning_rate=0.01)"
   ]
  },
  {
   "cell_type": "code",
   "execution_count": 17,
   "metadata": {},
   "outputs": [
    {
     "name": "stdout",
     "output_type": "stream",
     "text": [
      "180053.20294084633\n"
     ]
    }
   ],
   "source": [
    "print(gd.intercept_) # w_0_scaled"
   ]
  },
  {
   "cell_type": "code",
   "execution_count": 18,
   "metadata": {},
   "outputs": [
    {
     "name": "stdout",
     "output_type": "stream",
     "text": [
      "[51744.16536903]\n"
     ]
    }
   ],
   "source": [
    "print(gd.coef_) # w_1_scaled"
   ]
  },
  {
   "cell_type": "code",
   "execution_count": 19,
   "metadata": {},
   "outputs": [
    {
     "data": {
      "text/plain": [
       "array([30774.03773616])"
      ]
     },
     "execution_count": 19,
     "metadata": {},
     "output_type": "execute_result"
    }
   ],
   "source": [
    "gd.intercept_ - (ss.mean_ / ss.scale_)*gd.coef_ # w_0"
   ]
  },
  {
   "cell_type": "code",
   "execution_count": 20,
   "metadata": {},
   "outputs": [
    {
     "data": {
      "text/plain": [
       "array([98.50395317])"
      ]
     },
     "execution_count": 20,
     "metadata": {},
     "output_type": "execute_result"
    }
   ],
   "source": [
    "gd.coef_ / ss.scale_ # w_1"
   ]
  },
  {
   "cell_type": "code",
   "execution_count": 6,
   "metadata": {},
   "outputs": [
    {
     "ename": "NameError",
     "evalue": "name 'gd' is not defined",
     "output_type": "error",
     "traceback": [
      "\u001b[1;31m---------------------------------------------------------------------------\u001b[0m",
      "\u001b[1;31mNameError\u001b[0m                                 Traceback (most recent call last)",
      "\u001b[1;32m<ipython-input-6-ea1404c20e23>\u001b[0m in \u001b[0;36m<module>\u001b[1;34m\u001b[0m\n\u001b[1;32m----> 1\u001b[1;33m \u001b[0mw_history\u001b[0m \u001b[1;33m=\u001b[0m \u001b[0mgd\u001b[0m\u001b[1;33m.\u001b[0m\u001b[0m_w_history\u001b[0m\u001b[1;33m\u001b[0m\u001b[1;33m\u001b[0m\u001b[0m\n\u001b[0m",
      "\u001b[1;31mNameError\u001b[0m: name 'gd' is not defined"
     ]
    }
   ],
   "source": [
    "w_history = gd._w_history"
   ]
  },
  {
   "cell_type": "code",
   "execution_count": null,
   "metadata": {},
   "outputs": [],
   "source": []
  },
  {
   "cell_type": "code",
   "execution_count": null,
   "metadata": {},
   "outputs": [],
   "source": []
  },
  {
   "cell_type": "code",
   "execution_count": null,
   "metadata": {},
   "outputs": [],
   "source": []
  },
  {
   "cell_type": "code",
   "execution_count": null,
   "metadata": {},
   "outputs": [],
   "source": []
  },
  {
   "cell_type": "code",
   "execution_count": null,
   "metadata": {},
   "outputs": [],
   "source": [
    "## 2020-09-08\n",
    "\n",
    "from pyvizml import CreateNBAData\n",
    "import requests\n",
    "import numpy as np\n",
    "import pandas as pd\n",
    "import matplotlib.pyplot as plt\n",
    "from sklearn.model_selection import train_test_split\n",
    "from sklearn.linear_model import LinearRegression\n",
    "from sklearn.preprocessing import MinMaxScaler\n",
    "from sklearn.preprocessing import StandardScaler\n",
    "from pyvizml import GradientDescent\n",
    "from sklearn.linear_model import LogisticRegression\n",
    "from sklearn.preprocessing import LabelEncoder\n",
    "from sklearn.preprocessing import OneHotEncoder\n",
    "\n",
    "train = pd.read_csv(\"https://kaggle-getting-started.s3-ap-northeast-1.amazonaws.com/house-prices/train.csv\")\n",
    "X = train['GrLivArea'].values.reshape(-1, 1)\n",
    "y = train['SalePrice'].values\n",
    "X_train, X_valid, y_train, y_valid = train_test_split(X, y, test_size=0.33, random_state=42)\n",
    "lr = LinearRegression()\n",
    "lr.fit(X_train, y_train)\n",
    "print(lr.intercept_) # w_0\n",
    "print(lr.coef_) # w_1\n",
    "\n",
    "X\n",
    "\n",
    "X.max() - X.min() # 5308\n",
    "X.min() # 334\n",
    "\n",
    "mms.data_range_ # [5308]\n",
    "mms.data_min_ # [334]\n",
    "\n",
    "mms = MinMaxScaler()\n",
    "X_scaled = mms.fit_transform(X)\n",
    "X_scaled\n",
    "\n",
    "(X - X.min()) / (X.max() - X.min())\n",
    "\n",
    "X_train, X_valid, y_train, y_valid = train_test_split(X_scaled, y, test_size=0.33, random_state=42)\n",
    "gd = GradientDescent()\n",
    "gd.fit(X_train, y_train, epochs=100000, learning_rate=0.01)\n",
    "\n",
    "print(gd.intercept_) # w_0_scaled\n",
    "print(gd.coef_)      # w_1_scaled\n",
    "\n",
    "gd.intercept_ - (mms.data_min_ / mms.data_range_) * gd.coef_ # w_0\n",
    "\n",
    "gd.coef_ / mms.data_range_ # w_1\n",
    "\n",
    "ss = StandardScaler()\n",
    "X_scaled = ss.fit_transform(X)\n",
    "X_scaled\n",
    "\n",
    "ss.mean_ # 1515.46369863\n",
    "ss.scale_ # 525.30039356\n",
    "\n",
    "X.mean()\n",
    "X.std()\n",
    "\n",
    "(X - X.mean()) / X.std()\n",
    "\n",
    "X_train, X_valid, y_train, y_valid = train_test_split(X_scaled, y, test_size=0.33, random_state=42)\n",
    "gd = GradientDescent()\n",
    "gd.fit(X_train, y_train, epochs=100000, learning_rate=0.01)\n",
    "\n",
    "print(gd.intercept_) # w_0_scaled\n",
    "\n",
    "print(gd.coef_) # w_1_scaled\n",
    "\n",
    "gd.intercept_ - (ss.mean_ / ss.scale_)*gd.coef_ # w_0\n",
    "\n",
    "gd.coef_ / ss.scale_ # w_1\n",
    "\n",
    "w_history = gd._w_history\n",
    "\n",
    "def plot_contour(X_train, y_train, w_history, w_0_min, w_0_max, w_1_min, w_1_max, w_0_star, w_1_star):\n",
    "    m = X_train.shape[0]\n",
    "    X0 = np.ones((m, 1), dtype=float)\n",
    "    X_train = np.concatenate([X0, X_train], axis=1)\n",
    "    resolution = 100\n",
    "    W_0, W_1 = np.meshgrid(np.linspace(w_0_min, w_0_max, resolution), np.linspace(w_1_min, w_1_max, resolution))\n",
    "    Z = np.zeros((resolution, resolution))\n",
    "    for i in range(resolution):\n",
    "        for j in range(resolution):\n",
    "            w = np.array([W_0[i, j], W_1[i, j]])\n",
    "            y_hat = np.dot(X_train, w)\n",
    "            mse = ((y_hat - y_train).T.dot(y_hat - y_train)) / m\n",
    "            Z[i, j] = mse\n",
    "    epochs = len(w_history)\n",
    "    w_0_history = []\n",
    "    w_1_history = []\n",
    "    for i in range(epochs):\n",
    "        w_0_history.append(w_history[i][0])\n",
    "        w_1_history.append(w_history[i][1])\n",
    "    fig, ax = plt.subplots()\n",
    "    CS = ax.contour(W_0, W_1, Z)\n",
    "    ax.clabel(CS, inline=1, fontsize=10)\n",
    "    ax.plot(w_0_history, w_1_history, \"-\", color=\"blue\")\n",
    "    ax.scatter(w_0_star, w_1_star, marker=\"*\", color=\"red\")\n",
    "    ax.set_xlabel(\"$w_0$\")\n",
    "    ax.set_ylabel(\"$w_1$\", rotation=0)\n",
    "    plt.show()\n",
    "\n",
    "plot_contour(X_train, y_train, w_history, w_0_min=-100000, w_0_max=360000, w_1_min=-100000, w_1_max=200000, w_0_star=gd.intercept_, w_1_star=gd.coef_[0])\n",
    "\n",
    "w_history[0]\n",
    "\n",
    "w_history[99999]\n",
    "\n",
    "class AdaGrad(GradientDescent):\n",
    "    def fit(self, X_train, y_train, epochs=10000, learning_rate=0.01, epsilon=1e-06):\n",
    "        self._X_train = X_train.copy()\n",
    "        self._y_train = y_train.copy()\n",
    "        self._m = self._X_train.shape[0]\n",
    "        if self._fit_intercept:\n",
    "            X0 = np.ones((self._m, 1), dtype=float)\n",
    "            self._X_train = np.concatenate([X0, self._X_train], axis=1)\n",
    "        n = self._X_train.shape[1]\n",
    "        self._w = np.random.rand(n)\n",
    "        ssg = np.zeros(n, dtype=float) # 初始化 ssg (n,)\n",
    "        n_prints = 10\n",
    "        print_iter = epochs // n_prints\n",
    "        w_history = dict()\n",
    "        for i in range(epochs):\n",
    "            current_w = self._w.copy()\n",
    "            w_history[i] = current_w\n",
    "            mse = self.mean_squared_error()\n",
    "            gradient = self.find_gradient() # (n,)\n",
    "            ssg += gradient**2 # 更新 ssg\n",
    "            ada_grad = gradient / (epsilon + ssg**0.5) # adaptive gradient\n",
    "            if i % print_iter == 0:\n",
    "                print(\"epoch: {:6} - loss: {:.6f}\".format(i, mse))\n",
    "            self._w -= learning_rate*ada_grad # 以 adaptive gradient 更新 w\n",
    "        w_ravel = self._w.copy().ravel()\n",
    "        self.intercept_ = w_ravel[0]\n",
    "        self.coef_ = w_ravel[1:]\n",
    "        self._w_history = w_history\n",
    "\n",
    "X_train, X_valid, y_train, y_valid = train_test_split(X, y, test_size=0.33, random_state=42)\n",
    "ada_grad = AdaGrad()\n",
    "ada_grad.fit(X_train, y_train, learning_rate=100, epochs=500000)\n",
    "\n",
    "ada_grad.intercept_\n",
    "\n",
    "ada_grad.coef_\n",
    "\n",
    "w_history = ada_grad._w_history\n",
    "plot_contour(X_train, y_train, w_history, -5000, 35000, -10, 200, lr.intercept_, lr.coef_[0])\n",
    "\n",
    "cnd = CreateNBAData(2019)\n",
    "#player_stats = cnd.create_player_stats_df()\n",
    "player_stats = pd.read_csv('player_stats.csv')\n",
    "type(player_stats)\n",
    "\n",
    "player_stats.shape\n",
    "\n",
    "y = player_stats['pos'].values\n",
    "print(type(y))\n",
    "print(y.dtype)\n",
    "\n",
    "np.unique(y)\n",
    "\n",
    "# h(np.array([[5, 10]])) => p_hat => y_hat\n",
    "p_hat = np.random.random(7).reshape(1, 7)\n",
    "p_hat\n",
    "\n",
    "np.unique(y)[np.argmax(p_hat, axis=1)[0]]\n",
    "\n",
    "pos_dict = {\n",
    "    0: 'G',\n",
    "    1: 'F'\n",
    "}\n",
    "pos = player_stats['pos'].values\n",
    "pos_binary = np.array([0 if p[0] == 'G' else 1 for p in pos])\n",
    "\n",
    "np.unique(pos_binary)\n",
    "\n",
    "print(pos_binary[:10])\n",
    "print(pos[:10])\n",
    "\n",
    "X = player_stats[['apg', 'rpg']].values\n",
    "print(type(X))\n",
    "print(X.dtype)\n",
    "\n",
    "X[:10]\n",
    "\n",
    "y = pos_binary\n",
    "X_train, X_valid, y_train, y_valid = train_test_split(X, y, test_size=0.33, random_state=42)\n",
    "h = LogisticRegression(C=1e06) # 預測器的正規化程度\n",
    "h.fit(X_train, y_train)\n",
    "\n",
    "h.intercept_\n",
    "\n",
    "h.coef_\n",
    "\n",
    "np.argmax(h.predict_proba(X_valid)[:10], axis=1)\n",
    "\n",
    "h.predict(X_valid)[:10]\n",
    "\n",
    "X_valid[9, :]\n",
    "\n",
    "np.median(X_valid[:, 0])\n",
    "\n",
    "np.median(X_valid[:, 1])\n",
    "\n",
    "h.predict(X_valid)[:10]\n",
    "\n",
    "y_valid[:10]\n",
    "\n",
    "X_valid[6, :]\n",
    "\n",
    "p_hat = h.predict_proba(X_valid)\n",
    "y_hat = np.argmax(p_hat, axis=1)\n",
    "y_pred = [pos_dict[i] for i in y_hat]\n",
    "print(y_pred)\n",
    "\n",
    "(y_valid != y_hat).sum()\n",
    "\n",
    "y_valid.size"
   ]
  }
 ],
 "metadata": {
  "kernelspec": {
   "display_name": "mlpy",
   "language": "python",
   "name": "mlpy"
  },
  "language_info": {
   "codemirror_mode": {
    "name": "ipython",
    "version": 3
   },
   "file_extension": ".py",
   "mimetype": "text/x-python",
   "name": "python",
   "nbconvert_exporter": "python",
   "pygments_lexer": "ipython3",
   "version": "3.8.5"
  }
 },
 "nbformat": 4,
 "nbformat_minor": 4
}
