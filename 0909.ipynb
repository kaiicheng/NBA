{
 "cells": [
  {
   "cell_type": "code",
   "execution_count": 1,
   "metadata": {},
   "outputs": [],
   "source": [
    "from pyvizml import CreateNBAData\n",
    "import requests\n",
    "import numpy as np\n",
    "import pandas as pd\n",
    "import matplotlib.pyplot as plt\n",
    "from sklearn.model_selection import train_test_split\n",
    "from sklearn.linear_model import LogisticRegression\n",
    "from sklearn.preprocessing import LabelEncoder\n",
    "from sklearn.preprocessing import OneHotEncoder"
   ]
  },
  {
   "cell_type": "code",
   "execution_count": 2,
   "metadata": {},
   "outputs": [
    {
     "name": "stdout",
     "output_type": "stream",
     "text": [
      "object\n",
      "['G' 'C' 'C-F' 'F-C' 'F' 'F-G' 'G-F']\n",
      "[0 1]\n"
     ]
    }
   ],
   "source": [
    "#player_stats = cnd.create_player_stats_df()\n",
    "player_stats = pd.read_csv('player_stats.csv')\n",
    "print(player_stats['pos'].dtype) # y 是一個離散的文字類別，面對的是分類器問題\n",
    "print(player_stats['pos'].unique())\n",
    "pos_dict = {\n",
    "    0: 'G',\n",
    "    1: 'F'\n",
    "}\n",
    "pos = player_stats['pos'].values\n",
    "pos_binary = np.array([0 if p[0] == 'G' else 1 for p in pos])\n",
    "print(np.unique(pos_binary))"
   ]
  },
  {
   "cell_type": "code",
   "execution_count": 3,
   "metadata": {},
   "outputs": [
    {
     "name": "stdout",
     "output_type": "stream",
     "text": [
      "[-1.72482393]\n",
      "[[-1.89548986  1.60080397]]\n",
      "[[0.52044208 0.47955792]\n",
      " [0.24779195 0.75220805]\n",
      " [0.60317353 0.39682647]\n",
      " [0.99403121 0.00596879]\n",
      " [0.43129753 0.56870247]\n",
      " [0.01419797 0.98580203]\n",
      " [0.83985411 0.16014589]\n",
      " [0.63692792 0.36307208]\n",
      " [0.0110132  0.9889868 ]\n",
      " [0.00437005 0.99562995]]\n"
     ]
    }
   ],
   "source": [
    "X = player_stats[['apg', 'rpg']].values\n",
    "y = pos_binary\n",
    "X_train, X_valid, y_train, y_valid = train_test_split(X, y , test_size=0.33, random_state=42)\n",
    "h = LogisticRegression(C=1e6) # C 很大, 正規化效果低; C 很小, 正規化效果高\n",
    "h.fit(X_train, y_train) # ???\n",
    "print(h.intercept_) # w_0\n",
    "print(h.coef_)      # w_1 => apg, w_2 => rpg\n",
    "p_hat = h.predict_proba(X_valid)\n",
    "print(p_hat[:10])"
   ]
  },
  {
   "cell_type": "code",
   "execution_count": 4,
   "metadata": {},
   "outputs": [
    {
     "name": "stdout",
     "output_type": "stream",
     "text": [
      "[0 1 0 0 1 1 0 0 1 1]\n",
      "[0 1 0 0 1 1 0 0 1 1]\n"
     ]
    }
   ],
   "source": [
    "y_hat = h.predict(X_valid)\n",
    "print(y_hat[:10])\n",
    "y_hat = np.argmax(p_hat, axis=1)\n",
    "print(y_hat[:10])"
   ]
  },
  {
   "cell_type": "code",
   "execution_count": 5,
   "metadata": {},
   "outputs": [
    {
     "data": {
      "text/plain": [
       "21"
      ]
     },
     "execution_count": 5,
     "metadata": {},
     "output_type": "execute_result"
    }
   ],
   "source": [
    "(y_hat != y_valid).sum() # 誤分類數"
   ]
  },
  {
   "cell_type": "code",
   "execution_count": 6,
   "metadata": {},
   "outputs": [
    {
     "name": "stdout",
     "output_type": "stream",
     "text": [
      "(50, 50)\n",
      "(50, 50)\n"
     ]
    }
   ],
   "source": [
    "resolution = 50\n",
    "apg = player_stats['apg'].values.astype(float)\n",
    "rpg = player_stats['rpg'].values.astype(float)\n",
    "X1 = np.linspace(apg.min() - 0.5, apg.max() + 0.5).reshape(-1, 1)\n",
    "X2 = np.linspace(rpg.min() - 0.5, rpg.max() + 0.5).reshape(-1, 1)\n",
    "APG, RPG = np.meshgrid(X1, X2)\n",
    "print(APG.shape)\n",
    "print(RPG.shape)"
   ]
  },
  {
   "cell_type": "code",
   "execution_count": 7,
   "metadata": {},
   "outputs": [
    {
     "name": "stdout",
     "output_type": "stream",
     "text": [
      "[[10  0]]\n"
     ]
    },
    {
     "data": {
      "text/plain": [
       "1.044505216918743e-09"
      ]
     },
     "execution_count": 7,
     "metadata": {},
     "output_type": "execute_result"
    }
   ],
   "source": [
    "X_mock = np.array([10, 0]).reshape(1, -1)\n",
    "print(X_mock)\n",
    "p_hat_mock = h.predict_proba(X_mock) # p(y=0); p(y=1)\n",
    "p_hat_mock[0, 1] # p(y=1)"
   ]
  },
  {
   "cell_type": "code",
   "execution_count": 8,
   "metadata": {},
   "outputs": [],
   "source": [
    "def plot_contour_filled(XX, YY, resolution=50):\n",
    "    PROBA = np.zeros((resolution, resolution))\n",
    "    for i in range(resolution):\n",
    "        for j in range(resolution):\n",
    "            xx_ij = XX[i, j]\n",
    "            yy_ij = YY[i, j]\n",
    "            X_plot = np.array([xx_ij, yy_ij]).reshape(1, -1)\n",
    "            z = h.predict_proba(X_plot)[0, 1]\n",
    "            PROBA[i, j] = z\n",
    "    fig, ax = plt.subplots()\n",
    "    CS = ax.contourf(XX, YY, PROBA, cmap='RdBu')\n",
    "    ax.set_title(\"Probability of being predicted as a forward\")\n",
    "    ax.set_xlabel(\"Assists per game\")\n",
    "    ax.set_ylabel(\"Rebounds per game\")\n",
    "    fig.colorbar(CS, ax=ax)\n",
    "    plt.show()"
   ]
  },
  {
   "cell_type": "code",
   "execution_count": 9,
   "metadata": {},
   "outputs": [
    {
     "data": {
      "image/png": "[encoded data removed]",
      "text/plain": [
       "<Figure size 432x288 with 2 Axes>"
      ]
     },
     "metadata": {
      "needs_background": "light"
     },
     "output_type": "display_data"
    }
   ],
   "source": [
    "plot_contour_filled(APG, RPG)"
   ]
  },
  {
   "cell_type": "code",
   "execution_count": 10,
   "metadata": {},
   "outputs": [],
   "source": [
    "def plot_contour_filled(XX, YY, x, y, resolution=50):\n",
    "    PROBA = np.zeros((resolution, resolution))\n",
    "    for i in range(resolution):\n",
    "        for j in range(resolution):\n",
    "            xx_ij = XX[i, j]\n",
    "            yy_ij = YY[i, j]\n",
    "            X_plot = np.array([xx_ij, yy_ij]).reshape(1, -1)\n",
    "            z = h.predict_proba(X_plot)[0, 1]\n",
    "            PROBA[i, j] = z\n",
    "    fig, ax = plt.subplots()\n",
    "    CS = ax.contourf(XX, YY, PROBA, cmap='RdBu')\n",
    "    ax.set_title(\"Probability of being predicted as a forward\")\n",
    "    ax.set_xlabel(\"Assists per game\")\n",
    "    ax.set_ylabel(\"Rebounds per game\")\n",
    "    ax.scatter(x, y, color='yellow')\n",
    "    fig.colorbar(CS, ax=ax)\n",
    "    plt.show()"
   ]
  },
  {
   "cell_type": "code",
   "execution_count": 11,
   "metadata": {},
   "outputs": [
    {
     "data": {
      "image/png": "[encoded data removed]",
      "text/plain": [
       "<Figure size 432x288 with 2 Axes>"
      ]
     },
     "metadata": {
      "needs_background": "light"
     },
     "output_type": "display_data"
    }
   ],
   "source": [
    "plot_contour_filled(APG, RPG, 5, 7)"
   ]
  },
  {
   "cell_type": "code",
   "execution_count": 12,
   "metadata": {},
   "outputs": [],
   "source": [
    "def plot_decision_boundary(XX, YY, x, y, target_vector, pos_dict, h, resolution=50):\n",
    "    Y_hat = np.zeros((resolution, resolution))\n",
    "    for i in range(resolution):\n",
    "        for j in range(resolution):\n",
    "            xx_ij = XX[i, j]\n",
    "            yy_ij = YY[i, j]\n",
    "            X_plot = np.array([xx_ij, yy_ij]).reshape(1, -1)\n",
    "            z = h.predict(X_plot)\n",
    "            Y_hat[i, j] = z\n",
    "    fig, ax = plt.subplots()\n",
    "    CS = ax.contourf(XX, YY, Y_hat, alpha=0.2, cmap='RdBu')\n",
    "    colors = ['red', 'blue']\n",
    "    unique_categories = np.unique(target_vector)\n",
    "    for color, i in zip(colors, unique_categories):\n",
    "        xi = x[target_vector == i]\n",
    "        yi = y[target_vector == i]\n",
    "        ax.scatter(xi, yi, c=color, edgecolor='k', label=\"{}\".format(pos_dict[i]), alpha=0.6)\n",
    "    ax.set_title(\"Decision boundary of Forwards vs. Guards\")\n",
    "    ax.set_xlabel(\"Assists per game\")\n",
    "    ax.set_ylabel(\"Rebounds per game\")\n",
    "    ax.legend()\n",
    "    plt.show()"
   ]
  },
  {
   "cell_type": "code",
   "execution_count": 13,
   "metadata": {},
   "outputs": [
    {
     "data": {
      "image/png": "[encoded data removed]",
      "text/plain": [
       "<Figure size 432x288 with 1 Axes>"
      ]
     },
     "metadata": {
      "needs_background": "light"
     },
     "output_type": "display_data"
    }
   ],
   "source": [
    "plot_decision_boundary(APG, RPG, apg, rpg, y, pos_dict, h)"
   ]
  },
  {
   "cell_type": "code",
   "execution_count": 14,
   "metadata": {},
   "outputs": [],
   "source": [
    "def sigmoid(x):\n",
    "    return(1 / (1 + np.exp(-x)))"
   ]
  },
  {
   "cell_type": "code",
   "execution_count": 15,
   "metadata": {},
   "outputs": [],
   "source": [
    "def plot_sigmoid(lower_bound, upper_bound):\n",
    "    x = np.linspace(lower_bound, upper_bound, 100)\n",
    "    y = sigmoid(x)\n",
    "    fig = plt.figure()\n",
    "    ax = plt.axes()\n",
    "    ax.plot(x, y)\n",
    "    ax.axvline(0, color = 'black')\n",
    "    ax.axhline(y = 0, ls = ':', color = 'k', alpha = 0.5)\n",
    "    ax.axhline(y = 0.5, ls = ':', color = 'k', alpha = 0.5)\n",
    "    ax.axhline(y = 1, ls = ':', color = 'k', alpha = 0.5)\n",
    "    ax.set_yticks([0.0, 0.5, 1.0])\n",
    "    ax.set_ylim(-0.1, 1.1)\n",
    "    ax.set_title(\"Sigmoid function\")\n",
    "    plt.show()"
   ]
  },
  {
   "cell_type": "code",
   "execution_count": 16,
   "metadata": {},
   "outputs": [
    {
     "data": {
      "image/png": "[encoded data removed]",
      "text/plain": [
       "<Figure size 432x288 with 1 Axes>"
      ]
     },
     "metadata": {
      "needs_background": "light"
     },
     "output_type": "display_data"
    }
   ],
   "source": [
    "plot_sigmoid(-50, 50)"
   ]
  },
  {
   "cell_type": "code",
   "execution_count": 17,
   "metadata": {},
   "outputs": [
    {
     "data": {
      "text/plain": [
       "array([[0.52044208, 0.47955792],\n",
       "       [0.24779195, 0.75220805],\n",
       "       [0.60317353, 0.39682647],\n",
       "       [0.99403121, 0.00596879],\n",
       "       [0.43129753, 0.56870247],\n",
       "       [0.01419797, 0.98580203],\n",
       "       [0.83985411, 0.16014589],\n",
       "       [0.63692792, 0.36307208],\n",
       "       [0.0110132 , 0.9889868 ],\n",
       "       [0.00437005, 0.99562995]])"
      ]
     },
     "execution_count": 17,
     "metadata": {},
     "output_type": "execute_result"
    }
   ],
   "source": [
    "h.predict_proba(X_valid)[:10]"
   ]
  },
  {
   "cell_type": "code",
   "execution_count": 18,
   "metadata": {},
   "outputs": [
    {
     "data": {
      "text/plain": [
       "array([-1.72482393])"
      ]
     },
     "execution_count": 18,
     "metadata": {},
     "output_type": "execute_result"
    }
   ],
   "source": [
    "h.intercept_"
   ]
  },
  {
   "cell_type": "code",
   "execution_count": 19,
   "metadata": {},
   "outputs": [
    {
     "data": {
      "text/plain": [
       "array([[-1.89548986,  1.60080397]])"
      ]
     },
     "execution_count": 19,
     "metadata": {},
     "output_type": "execute_result"
    }
   ],
   "source": [
    "h.coef_"
   ]
  },
  {
   "cell_type": "code",
   "execution_count": 20,
   "metadata": {},
   "outputs": [
    {
     "data": {
      "text/plain": [
       "array([-1.72482393, -1.89548986,  1.60080397])"
      ]
     },
     "execution_count": 20,
     "metadata": {},
     "output_type": "execute_result"
    }
   ],
   "source": [
    "w = np.array([\n",
    "              h.intercept_[0], h.coef_[0, 0], h.coef_[0, 1]\n",
    "]).reshape(3,)\n",
    "w"
   ]
  },
  {
   "cell_type": "code",
   "execution_count": 21,
   "metadata": {},
   "outputs": [
    {
     "name": "stdout",
     "output_type": "stream",
     "text": [
      "[0.47955792 0.75220805 0.39682647 0.00596879 0.56870247 0.98580203\n",
      " 0.16014589 0.36307208 0.9889868  0.99562995]\n",
      "[0.52044208 0.24779195 0.60317353 0.99403121 0.43129753 0.01419797\n",
      " 0.83985411 0.63692792 0.0110132  0.00437005]\n"
     ]
    }
   ],
   "source": [
    "X_0 = np.ones(X_valid.shape[0]).reshape(-1, 1)\n",
    "X_valid_w_X0 = np.concatenate([X_0, X_valid], axis=1)\n",
    "X_w = X_valid_w_X0.dot(w)\n",
    "print(sigmoid(X_w)[:10])\n",
    "print(1 - sigmoid(X_w)[:10])"
   ]
  },
  {
   "cell_type": "code",
   "execution_count": 22,
   "metadata": {},
   "outputs": [
    {
     "name": "stdout",
     "output_type": "stream",
     "text": [
      "[0.47955792 0.75220805 0.39682647 0.00596879 0.56870247 0.98580203\n",
      " 0.16014589 0.36307208 0.9889868  0.99562995]\n",
      "[0.52044208 0.24779195 0.60317353 0.99403121 0.43129753 0.01419797\n",
      " 0.83985411 0.63692792 0.0110132  0.00437005]\n"
     ]
    }
   ],
   "source": [
    "print(p_hat[:10, 1])\n",
    "print(p_hat[:10, 0])"
   ]
  },
  {
   "cell_type": "code",
   "execution_count": 23,
   "metadata": {},
   "outputs": [],
   "source": [
    "def plot_cross_entropy():\n",
    "    epsilon = 1e-5\n",
    "    h = np.linspace(epsilon, 1-epsilon) # 利用微小值 epsilon 避免 log(0) 的錯誤\n",
    "    y1 = -np.log(h)\n",
    "    y2 = -np.log(1 - h)\n",
    "    fig, ax = plt.subplots(1, 2, figsize = (8, 4))\n",
    "    ax[0].plot(h, y1)\n",
    "    ax[0].set_title(\"$y=1$\\n$-\\log(\\sigma(Xw))$\")\n",
    "    ax[0].set_xticks([0, 1])\n",
    "    ax[0].set_xticklabels([0, 1])\n",
    "    ax[0].set_xlabel(\"$\\sigma(Xw)$\")\n",
    "    ax[1].plot(h, y2)\n",
    "    ax[1].set_title(\"$y=0$\\n$-\\log(1-\\sigma(Xw))$\")\n",
    "    ax[1].set_xticks([0, 1])\n",
    "    ax[1].set_xticklabels([0, 1])\n",
    "    ax[1].set_xlabel(\"$\\sigma(Xw)$\")\n",
    "    plt.tight_layout()\n",
    "    plt.show()"
   ]
  },
  {
   "cell_type": "code",
   "execution_count": 24,
   "metadata": {},
   "outputs": [
    {
     "data": {
      "image/png": "[encoded data removed]",
      "text/plain": [
       "<Figure size 576x288 with 2 Axes>"
      ]
     },
     "metadata": {
      "needs_background": "light"
     },
     "output_type": "display_data"
    }
   ],
   "source": [
    "plot_cross_entropy()"
   ]
  },
  {
   "cell_type": "code",
   "execution_count": 25,
   "metadata": {},
   "outputs": [],
   "source": [
    "class LogitReg:\n",
    "    \"\"\"\n",
    "    This class defines the vanilla descent algorithm for logistic regression.\n",
    "    Args:\n",
    "        fit_intercept (bool): Whether to add intercept for this model.\n",
    "    \"\"\"\n",
    "    def __init__(self, fit_intercept=True):\n",
    "        self._fit_intercept = fit_intercept\n",
    "    def sigmoid(self, X):\n",
    "        \"\"\"\n",
    "        This function returns the Sigmoid output as a probability given certain model weights.\n",
    "        \"\"\"\n",
    "        X_w = np.dot(X, self._w)\n",
    "        p_hat = 1 / (1 + np.exp(-X_w))\n",
    "        return p_hat\n",
    "    def find_gradient(self):\n",
    "        \"\"\"\n",
    "        This function returns the gradient given certain model weights.\n",
    "        \"\"\"\n",
    "        m = self._m\n",
    "        p_hat = self.sigmoid(self._X_train)\n",
    "        X_train_T = np.transpose(self._X_train)\n",
    "        gradient = (1/m) * np.dot(X_train_T, p_hat - self._y_train)\n",
    "        return gradient\n",
    "    def cross_entropy(self, epsilon=1e-06):\n",
    "        \"\"\"\n",
    "        This function returns the cross entropy given certain model weights.\n",
    "        \"\"\"\n",
    "        m = self._m\n",
    "        p_hat = self.sigmoid(self._X_train)\n",
    "        cost_y1 = -np.dot(self._y_train, np.log(p_hat + epsilon))\n",
    "        cost_y0 = -np.dot(1 - self._y_train, np.log(1 - p_hat + epsilon))\n",
    "        cross_entropy = (cost_y1 + cost_y0) / m\n",
    "        return cross_entropy\n",
    "    def fit(self, X_train, y_train, epochs=10000, learning_rate=0.001):\n",
    "        \"\"\"\n",
    "        This function uses vanilla gradient descent to solve for weights of this model.\n",
    "        Args:\n",
    "            X_train (ndarray): 2d-array for feature matrix of training data.\n",
    "            y_train (ndarray): 1d-array for target vector of training data.\n",
    "            epochs (int): The number of iterations to update the model weights.\n",
    "            learning_rate (float): The learning rate of gradient descent.\n",
    "        \"\"\"\n",
    "        self._X_train = X_train.copy()\n",
    "        self._y_train = y_train.copy()\n",
    "        m = self._X_train.shape[0]\n",
    "        self._m = m\n",
    "        if self._fit_intercept:\n",
    "            X0 = np.ones((self._m, 1), dtype=float)\n",
    "            self._X_train = np.concatenate([X0, self._X_train], axis=1)\n",
    "        n = self._X_train.shape[1]\n",
    "        self._w = np.random.rand(n)\n",
    "        n_prints = 10\n",
    "        print_iter = epochs // n_prints\n",
    "        for i in range(epochs):\n",
    "            cross_entropy = self.cross_entropy()\n",
    "            gradient = self.find_gradient()\n",
    "            if i % print_iter == 0:\n",
    "                print(\"epoch: {:6} - loss: {:.6f}\".format(i, cross_entropy))\n",
    "            self._w -= learning_rate*gradient\n",
    "        w_ravel = self._w.ravel().copy()\n",
    "        self.intercept_ = w_ravel[0]\n",
    "        self.coef_ = w_ravel[1:].reshape(1, -1)\n",
    "    def predict_proba(self, X_test):\n",
    "        \"\"\"\n",
    "        This function returns predicted probability with weights of this model.\n",
    "        Args:\n",
    "            X_test (ndarray): 2d-array for feature matrix of test data.\n",
    "        \"\"\"\n",
    "        m = X_test.shape[0]\n",
    "        if self._fit_intercept:\n",
    "            X0 = np.ones((m, 1), dtype=float)\n",
    "            self._X_test = np.concatenate([X0, X_test], axis=1)\n",
    "        p_hat_1 = self.sigmoid(self._X_test).reshape(-1, 1)\n",
    "        p_hat_0 = 1 - p_hat_1\n",
    "        proba = np.concatenate([p_hat_0, p_hat_1], axis=1)\n",
    "        return proba\n",
    "    def predict(self, X_test):\n",
    "        \"\"\"\n",
    "        This function returns predicted label with weights of this model.\n",
    "        Args:\n",
    "            X_test (ndarray): 2d-array for feature matrix of test data.\n",
    "        \"\"\"\n",
    "        proba = self.predict_proba(X_test)\n",
    "        y_pred = np.argmax(proba, axis=1)\n",
    "        return y_pred"
   ]
  },
  {
   "cell_type": "code",
   "execution_count": 26,
   "metadata": {},
   "outputs": [
    {
     "name": "stdout",
     "output_type": "stream",
     "text": [
      "epoch:      0 - loss: 1.795120\n",
      "epoch:   3000 - loss: 0.352206\n",
      "epoch:   6000 - loss: 0.339643\n",
      "epoch:   9000 - loss: 0.336500\n",
      "epoch:  12000 - loss: 0.335577\n",
      "epoch:  15000 - loss: 0.335284\n",
      "epoch:  18000 - loss: 0.335187\n",
      "epoch:  21000 - loss: 0.335155\n",
      "epoch:  24000 - loss: 0.335143\n",
      "epoch:  27000 - loss: 0.335140\n"
     ]
    }
   ],
   "source": [
    "lr = LogitReg()\n",
    "lr.fit(X_train, y_train, epochs=30000, learning_rate=0.01)"
   ]
  },
  {
   "cell_type": "code",
   "execution_count": 27,
   "metadata": {},
   "outputs": [
    {
     "name": "stdout",
     "output_type": "stream",
     "text": [
      "-1.716794572026064\n",
      "[[-1.89315215  1.59711001]]\n"
     ]
    }
   ],
   "source": [
    "print(lr.intercept_)\n",
    "print(lr.coef_)"
   ]
  },
  {
   "cell_type": "code",
   "execution_count": 28,
   "metadata": {},
   "outputs": [
    {
     "name": "stdout",
     "output_type": "stream",
     "text": [
      "[-1.72482393]\n",
      "[[-1.89548986  1.60080397]]\n"
     ]
    }
   ],
   "source": [
    "print(h.intercept_)\n",
    "print(h.coef_)"
   ]
  },
  {
   "cell_type": "code",
   "execution_count": 29,
   "metadata": {},
   "outputs": [
    {
     "name": "stdout",
     "output_type": "stream",
     "text": [
      "[0 1 0 0 1 1 0 0 1 1]\n"
     ]
    }
   ],
   "source": [
    "y_pred = lr.predict(X_valid)\n",
    "print(y_pred[:10])"
   ]
  },
  {
   "cell_type": "code",
   "execution_count": 30,
   "metadata": {},
   "outputs": [
    {
     "name": "stdout",
     "output_type": "stream",
     "text": [
      "[0 1 0 0 1 1 0 0 1 1]\n"
     ]
    }
   ],
   "source": [
    "print(y_hat[:10])"
   ]
  }
 ],
 "metadata": {
  "kernelspec": {
   "display_name": "mlpy",
   "language": "python",
   "name": "mlpy"
  },
  "language_info": {
   "codemirror_mode": {
    "name": "ipython",
    "version": 3
   },
   "file_extension": ".py",
   "mimetype": "text/x-python",
   "name": "python",
   "nbconvert_exporter": "python",
   "pygments_lexer": "ipython3",
   "version": "3.8.5"
  }
 },
 "nbformat": 4,
 "nbformat_minor": 4
}
