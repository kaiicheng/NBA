{
 "cells": [
  {
   "cell_type": "code",
   "execution_count": 1,
   "metadata": {},
   "outputs": [],
   "source": [
    "from pyvizml import CreateNBAData\n",
    "import requests\n",
    "import numpy as np\n",
    "import pandas as pd\n",
    "import matplotlib.pyplot as plt\n",
    "from sklearn.model_selection import train_test_split\n",
    "from sklearn.linear_model import LinearRegression\n",
    "from sklearn.preprocessing import MinMaxScaler\n",
    "from sklearn.preprocessing import PolynomialFeatures"
   ]
  },
  {
   "cell_type": "code",
   "execution_count": 2,
   "metadata": {},
   "outputs": [
    {
     "name": "stdout",
     "output_type": "stream",
     "text": [
      "[[1.]\n",
      " [1.]\n",
      " [1.]\n",
      " [1.]\n",
      " [1.]\n",
      " [1.]\n",
      " [1.]\n",
      " [1.]\n",
      " [1.]\n",
      " [1.]]\n",
      "[[ 1]\n",
      " [ 2]\n",
      " [ 3]\n",
      " [ 4]\n",
      " [ 5]\n",
      " [ 6]\n",
      " [ 7]\n",
      " [ 8]\n",
      " [ 9]\n",
      " [10]]\n",
      "[5 6]\n",
      "[[ 1.  1.]\n",
      " [ 1.  2.]\n",
      " [ 1.  3.]\n",
      " [ 1.  4.]\n",
      " [ 1.  5.]\n",
      " [ 1.  6.]\n",
      " [ 1.  7.]\n",
      " [ 1.  8.]\n",
      " [ 1.  9.]\n",
      " [ 1. 10.]]\n",
      "[11. 17. 23. 29. 35. 41. 47. 53. 59. 65.]\n"
     ]
    }
   ],
   "source": [
    "X0 = np.ones((10, 1))\n",
    "X1 = np.arange(1, 11).reshape(-1, 1)\n",
    "print(X0)\n",
    "print(X1)\n",
    "w = np.array([5, 6])\n",
    "print(w)\n",
    "X_train = np.concatenate([X0, X1], axis=1)\n",
    "y_train = np.dot(X_train, w)\n",
    "print(X_train)\n",
    "print(y_train)"
   ]
  },
  {
   "cell_type": "code",
   "execution_count": 3,
   "metadata": {},
   "outputs": [
    {
     "data": {
      "text/plain": [
       "array([0.37454012, 0.95071431])"
      ]
     },
     "execution_count": 3,
     "metadata": {},
     "output_type": "execute_result"
    }
   ],
   "source": [
    "# Create a random set of number.\n",
    "np.random.seed(42)\n",
    "w = np.random.rand(2)\n",
    "w"
   ]
  },
  {
   "cell_type": "code",
   "execution_count": 4,
   "metadata": {},
   "outputs": [
    {
     "data": {
      "text/plain": [
       "array([1.32525443, 2.27596873, 3.22668304, 4.17739734, 5.12811165,\n",
       "       6.07882596, 7.02954026, 7.98025457, 8.93096888, 9.88168318])"
      ]
     },
     "execution_count": 4,
     "metadata": {},
     "output_type": "execute_result"
    }
   ],
   "source": [
    "y_hat = np.dot(X_train, w)\n",
    "y_hat"
   ]
  },
  {
   "cell_type": "code",
   "execution_count": 5,
   "metadata": {},
   "outputs": [
    {
     "data": {
      "text/plain": [
       "1259.8713431546198"
      ]
     },
     "execution_count": 5,
     "metadata": {},
     "output_type": "execute_result"
    }
   ],
   "source": [
    "# Calculate the gap between y_hat and y_train.\n",
    "m = y_train.size\n",
    "j = ((y_hat - y_train).T.dot(y_hat - y_train)) / m\n",
    "j"
   ]
  },
  {
   "cell_type": "code",
   "execution_count": 6,
   "metadata": {},
   "outputs": [
    {
     "data": {
      "text/plain": [
       "array([ -64.79306239, -439.6750571 ])"
      ]
     },
     "execution_count": 6,
     "metadata": {},
     "output_type": "execute_result"
    }
   ],
   "source": [
    "gradients = (2/m) * np.dot(X_train.T, y_hat - y_train)\n",
    "gradients"
   ]
  },
  {
   "cell_type": "code",
   "execution_count": 7,
   "metadata": {},
   "outputs": [
    {
     "data": {
      "text/plain": [
       "array([0.06479306, 0.43967506])"
      ]
     },
     "execution_count": 7,
     "metadata": {},
     "output_type": "execute_result"
    }
   ],
   "source": [
    "learning_rate = 0.001\n",
    "-learning_rate * gradients"
   ]
  },
  {
   "cell_type": "code",
   "execution_count": 8,
   "metadata": {},
   "outputs": [],
   "source": [
    "w -= learning_rate * gradients\n",
    "# w = w - learning_rate * gradients"
   ]
  },
  {
   "cell_type": "code",
   "execution_count": 9,
   "metadata": {},
   "outputs": [
    {
     "data": {
      "text/plain": [
       "array([0.43933318, 1.39038936])"
      ]
     },
     "execution_count": 9,
     "metadata": {},
     "output_type": "execute_result"
    }
   ],
   "source": [
    "w"
   ]
  },
  {
   "cell_type": "code",
   "execution_count": 10,
   "metadata": {},
   "outputs": [
    {
     "data": {
      "text/plain": [
       "1070.1192063534622"
      ]
     },
     "execution_count": 10,
     "metadata": {},
     "output_type": "execute_result"
    }
   ],
   "source": [
    "y_hat = np.dot(X_train, w)\n",
    "j = ((y_hat - y_train).T.dot(y_hat - y_train)) / m\n",
    "j"
   ]
  },
  {
   "cell_type": "code",
   "execution_count": null,
   "metadata": {},
   "outputs": [],
   "source": []
  },
  {
   "cell_type": "code",
   "execution_count": 11,
   "metadata": {
    "scrolled": true
   },
   "outputs": [
    {
     "name": "stdout",
     "output_type": "stream",
     "text": [
      "[[1.]\n",
      " [1.]\n",
      " [1.]\n",
      " [1.]\n",
      " [1.]\n",
      " [1.]\n",
      " [1.]\n",
      " [1.]\n",
      " [1.]\n",
      " [1.]]\n",
      "[[ 1]\n",
      " [ 2]\n",
      " [ 3]\n",
      " [ 4]\n",
      " [ 5]\n",
      " [ 6]\n",
      " [ 7]\n",
      " [ 8]\n",
      " [ 9]\n",
      " [10]]\n",
      "[5 6]\n",
      "[[ 1.  1.]\n",
      " [ 1.  2.]\n",
      " [ 1.  3.]\n",
      " [ 1.  4.]\n",
      " [ 1.  5.]\n",
      " [ 1.  6.]\n",
      " [ 1.  7.]\n",
      " [ 1.  8.]\n",
      " [ 1.  9.]\n",
      " [ 1. 10.]]\n",
      "[11. 17. 23. 29. 35. 41. 47. 53. 59. 65.]\n"
     ]
    }
   ],
   "source": [
    "X0 = np.ones((10, 1))\n",
    "X1 = np.arange(1, 11).reshape(-1, 1)\n",
    "print(X0)\n",
    "print(X1)\n",
    "w = np.array([5, 6])\n",
    "print(w)\n",
    "X_train = np.concatenate([X0, X1], axis=1)\n",
    "y_train = np.dot(X_train, w)\n",
    "print(X_train)\n",
    "print(y_train)"
   ]
  },
  {
   "cell_type": "code",
   "execution_count": 12,
   "metadata": {},
   "outputs": [
    {
     "data": {
      "text/plain": [
       "array([0.73199394, 0.59865848])"
      ]
     },
     "execution_count": 12,
     "metadata": {},
     "output_type": "execute_result"
    }
   ],
   "source": [
    "#X_train\n",
    "#y_train\n",
    "\n",
    "# Get two random numbers.\n",
    "w = np.random.random(2)\n",
    "w"
   ]
  },
  {
   "cell_type": "code",
   "execution_count": 13,
   "metadata": {},
   "outputs": [],
   "source": [
    "def calculate_gradients(X_train, y_hat, y_train):\n",
    "    m = X_train.shape[0]\n",
    "    X_train_T = np.transpose(X_train) # (n, m)\n",
    "    error = y_hat - y_train           # (m,)\n",
    "    gradients = (2/m) * np.dot(X_train_T, error) # (n, m)(m,) = (n,)\n",
    "    return gradients"
   ]
  },
  {
   "cell_type": "code",
   "execution_count": 14,
   "metadata": {},
   "outputs": [
    {
     "name": "stdout",
     "output_type": "stream",
     "text": [
      "original w:[0.15601864 0.15599452]\n",
      "[0.22999066 0.65926674]\n",
      "[2.42320807 6.37013181]\n",
      "[3.30699841 6.24318368]\n",
      "[3.88766557 6.15977633]\n",
      "[4.269175   6.10497611]\n",
      "[4.519834   6.06897131]\n",
      "[4.68452175 6.04531547]\n",
      "[4.79272476 6.02977313]\n",
      "[4.8638162  6.01956152]\n",
      "[4.91052464 6.01285229]\n"
     ]
    }
   ],
   "source": [
    "#learning_rate\n",
    "w = np.random.random(2)\n",
    "learning_rate = 0.001\n",
    "# learning_rate = 0.01\n",
    "epochs = 10000\n",
    "# epochs = 1000\n",
    "print(\"original w:{}\".format(w))\n",
    "for _ in range(epochs):\n",
    "    y_hat = np.dot(X_train, w)\n",
    "    gradients = calculate_gradients(X_train, y_hat, y_train)\n",
    "    #j = np.sum(((y_hat - y_train)**2))/y_hat.size => Error.\n",
    "    w -= learning_rate * gradients\n",
    "    if _ % 1000 == 0:\n",
    "        print(w)"
   ]
  },
  {
   "cell_type": "code",
   "execution_count": 15,
   "metadata": {},
   "outputs": [
    {
     "data": {
      "text/plain": [
       "array([4.94118828, 6.00844775])"
      ]
     },
     "execution_count": 15,
     "metadata": {},
     "output_type": "execute_result"
    }
   ],
   "source": [
    "w"
   ]
  },
  {
   "cell_type": "code",
   "execution_count": 16,
   "metadata": {},
   "outputs": [],
   "source": [
    "from pyvizml import GradientDescent"
   ]
  },
  {
   "cell_type": "code",
   "execution_count": 17,
   "metadata": {},
   "outputs": [
    {
     "name": "stdout",
     "output_type": "stream",
     "text": [
      "epoch:      0 - loss: 1318.214422\n",
      "epoch: 100000 - loss: 0.000000\n",
      "epoch: 200000 - loss: 0.000000\n",
      "epoch: 300000 - loss: 0.000000\n",
      "epoch: 400000 - loss: 0.000000\n",
      "epoch: 500000 - loss: 0.000000\n",
      "epoch: 600000 - loss: 0.000000\n",
      "epoch: 700000 - loss: 0.000000\n",
      "epoch: 800000 - loss: 0.000000\n",
      "epoch: 900000 - loss: 0.000000\n"
     ]
    }
   ],
   "source": [
    "gd = GradientDescent(fit_intercept=False)\n",
    "gd.fit(X_train, y_train, epochs=1000000)"
   ]
  },
  {
   "cell_type": "code",
   "execution_count": 18,
   "metadata": {},
   "outputs": [
    {
     "data": {
      "text/plain": [
       "array([[ 1.,  1.],\n",
       "       [ 1.,  2.],\n",
       "       [ 1.,  3.],\n",
       "       [ 1.,  4.],\n",
       "       [ 1.,  5.],\n",
       "       [ 1.,  6.],\n",
       "       [ 1.,  7.],\n",
       "       [ 1.,  8.],\n",
       "       [ 1.,  9.],\n",
       "       [ 1., 10.]])"
      ]
     },
     "execution_count": 18,
     "metadata": {},
     "output_type": "execute_result"
    }
   ],
   "source": [
    "X_train"
   ]
  },
  {
   "cell_type": "code",
   "execution_count": 19,
   "metadata": {},
   "outputs": [
    {
     "data": {
      "text/plain": [
       "array([11., 17., 23., 29., 35., 41., 47., 53., 59., 65.])"
      ]
     },
     "execution_count": 19,
     "metadata": {},
     "output_type": "execute_result"
    }
   ],
   "source": [
    "y_train"
   ]
  },
  {
   "cell_type": "code",
   "execution_count": 20,
   "metadata": {},
   "outputs": [
    {
     "name": "stdout",
     "output_type": "stream",
     "text": [
      "[6.]\n",
      "4.9999999999988205\n"
     ]
    }
   ],
   "source": [
    "print(gd.coef_)\n",
    "print(gd.intercept_)"
   ]
  },
  {
   "cell_type": "code",
   "execution_count": 21,
   "metadata": {},
   "outputs": [
    {
     "data": {
      "text/plain": [
       "array([0.05808361, 0.86617615])"
      ]
     },
     "execution_count": 21,
     "metadata": {},
     "output_type": "execute_result"
    }
   ],
   "source": [
    "gd._w_history[0]"
   ]
  },
  {
   "cell_type": "code",
   "execution_count": 22,
   "metadata": {},
   "outputs": [
    {
     "data": {
      "text/plain": [
       "array([5., 6.])"
      ]
     },
     "execution_count": 22,
     "metadata": {},
     "output_type": "execute_result"
    }
   ],
   "source": [
    "gd._w_history[1000000-1]"
   ]
  }
 ],
 "metadata": {
  "kernelspec": {
   "display_name": "Python 3",
   "language": "python",
   "name": "python3"
  },
  "language_info": {
   "codemirror_mode": {
    "name": "ipython",
    "version": 3
   },
   "file_extension": ".py",
   "mimetype": "text/x-python",
   "name": "python",
   "nbconvert_exporter": "python",
   "pygments_lexer": "ipython3",
   "version": "3.8.3"
  }
 },
 "nbformat": 4,
 "nbformat_minor": 4
}
