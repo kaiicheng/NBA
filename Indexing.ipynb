{
 "cells": [
  {
   "cell_type": "code",
   "execution_count": 1,
   "metadata": {},
   "outputs": [],
   "source": [
    "import numpy as np\n",
    "import matplotlib.pyplot as plt\n",
    "import pandas as pd\n",
    "from pyvizml import CreateNBAData\n",
    "from tensorflow.keras import datasets"
   ]
  },
  {
   "cell_type": "code",
   "execution_count": 2,
   "metadata": {},
   "outputs": [
    {
     "name": "stdout",
     "output_type": "stream",
     "text": [
      "[45 48 65 68 68 10 84 22 37 88]\n"
     ]
    }
   ],
   "source": [
    "np.random.seed(0)\n",
    "arr = np.random.randint(1, 100, size=(10,))\n",
    "print(arr)"
   ]
  },
  {
   "cell_type": "code",
   "execution_count": 3,
   "metadata": {},
   "outputs": [
    {
     "name": "stdout",
     "output_type": "stream",
     "text": [
      "[45 65 37]\n",
      "[45 65 37]\n"
     ]
    }
   ],
   "source": [
    "print(arr[[0, 2, -2]]) # fancy indexing\n",
    "print(arr[[0, 2, -2]]) # fancy indexing"
   ]
  },
  {
   "cell_type": "code",
   "execution_count": 4,
   "metadata": {},
   "outputs": [
    {
     "name": "stdout",
     "output_type": "stream",
     "text": [
      "[1 0 1 0 0 0 0 0 1 0]\n",
      "[ True False  True False False False False False  True False]\n",
      "[45 65 37]\n"
     ]
    }
   ],
   "source": [
    "print(arr % 2)\n",
    "print(arr % 2 == 1)      # boolean array\n",
    "print(arr[arr % 2 == 1]) # boolean indexing"
   ]
  },
  {
   "cell_type": "code",
   "execution_count": 5,
   "metadata": {},
   "outputs": [
    {
     "name": "stdout",
     "output_type": "stream",
     "text": [
      "[45, 48, 65, 68, 68, 10, 84, 22, 37, 88]\n"
     ]
    }
   ],
   "source": [
    "rand_list = list(arr)\n",
    "print(rand_list)"
   ]
  },
  {
   "cell_type": "code",
   "execution_count": 6,
   "metadata": {},
   "outputs": [
    {
     "data": {
      "text/plain": [
       "[45, 65, 37]"
      ]
     },
     "execution_count": 6,
     "metadata": {},
     "output_type": "execute_result"
    }
   ],
   "source": [
    "list(filter(lambda x : x % 2 == 1, rand_list)) # Apply x % 2 to data of rand_list. "
   ]
  },
  {
   "cell_type": "code",
   "execution_count": 7,
   "metadata": {},
   "outputs": [
    {
     "name": "stdout",
     "output_type": "stream",
     "text": [
      "[45 48 65 68 68 10 84 22 37 88]\n",
      "[45 65 37]\n"
     ]
    }
   ],
   "source": [
    "is_odd = [True, False, True, False, False, False, False, False, True, False]\n",
    "print(arr)\n",
    "print(arr[is_odd])"
   ]
  },
  {
   "cell_type": "code",
   "execution_count": null,
   "metadata": {},
   "outputs": [],
   "source": []
  },
  {
   "cell_type": "code",
   "execution_count": 8,
   "metadata": {},
   "outputs": [],
   "source": [
    "# Reshape"
   ]
  },
  {
   "cell_type": "code",
   "execution_count": 9,
   "metadata": {},
   "outputs": [
    {
     "name": "stdout",
     "output_type": "stream",
     "text": [
      "[1 2 3 4 5 6 7 8 9]\n",
      "(9,)\n"
     ]
    }
   ],
   "source": [
    "arr = np.arange(1, 10)\n",
    "print(arr)\n",
    "print(arr.shape)"
   ]
  },
  {
   "cell_type": "code",
   "execution_count": 10,
   "metadata": {},
   "outputs": [
    {
     "data": {
      "text/plain": [
       "array([[1, 2, 3],\n",
       "       [4, 5, 6],\n",
       "       [7, 8, 9]])"
      ]
     },
     "execution_count": 10,
     "metadata": {},
     "output_type": "execute_result"
    }
   ],
   "source": [
    "arr.reshape(3, 3)"
   ]
  },
  {
   "cell_type": "code",
   "execution_count": 11,
   "metadata": {},
   "outputs": [],
   "source": [
    "# -1 will automatically calculate the rest of number."
   ]
  },
  {
   "cell_type": "code",
   "execution_count": 12,
   "metadata": {},
   "outputs": [
    {
     "data": {
      "text/plain": [
       "array([[1, 2, 3],\n",
       "       [4, 5, 6],\n",
       "       [7, 8, 9]])"
      ]
     },
     "execution_count": 12,
     "metadata": {},
     "output_type": "execute_result"
    }
   ],
   "source": [
    "arr.reshape(3, -1)"
   ]
  },
  {
   "cell_type": "code",
   "execution_count": 13,
   "metadata": {},
   "outputs": [
    {
     "data": {
      "text/plain": [
       "array([[1, 2, 3],\n",
       "       [4, 5, 6],\n",
       "       [7, 8, 9]])"
      ]
     },
     "execution_count": 13,
     "metadata": {},
     "output_type": "execute_result"
    }
   ],
   "source": [
    "arr.reshape(-1, 3)"
   ]
  },
  {
   "cell_type": "code",
   "execution_count": null,
   "metadata": {},
   "outputs": [],
   "source": []
  },
  {
   "cell_type": "code",
   "execution_count": 14,
   "metadata": {},
   "outputs": [
    {
     "name": "stdout",
     "output_type": "stream",
     "text": [
      "Creating players df...\n"
     ]
    }
   ],
   "source": [
    "cnd = CreateNBAData(2019)\n",
    "players = cnd.create_players_df()"
   ]
  },
  {
   "cell_type": "code",
   "execution_count": 15,
   "metadata": {},
   "outputs": [
    {
     "data": {
      "text/html": [
       "<div>\n",
       "<style scoped>\n",
       "    .dataframe tbody tr th:only-of-type {\n",
       "        vertical-align: middle;\n",
       "    }\n",
       "\n",
       "    .dataframe tbody tr th {\n",
       "        vertical-align: top;\n",
       "    }\n",
       "\n",
       "    .dataframe thead th {\n",
       "        text-align: right;\n",
       "    }\n",
       "</style>\n",
       "<table border=\"1\" class=\"dataframe\">\n",
       "  <thead>\n",
       "    <tr style=\"text-align: right;\">\n",
       "      <th></th>\n",
       "      <th>firstName</th>\n",
       "      <th>lastName</th>\n",
       "      <th>temporaryDisplayName</th>\n",
       "      <th>personId</th>\n",
       "      <th>teamId</th>\n",
       "      <th>jersey</th>\n",
       "      <th>isActive</th>\n",
       "      <th>pos</th>\n",
       "      <th>heightFeet</th>\n",
       "      <th>heightInches</th>\n",
       "      <th>heightMeters</th>\n",
       "      <th>weightPounds</th>\n",
       "      <th>weightKilograms</th>\n",
       "      <th>dateOfBirthUTC</th>\n",
       "      <th>nbaDebutYear</th>\n",
       "      <th>yearsPro</th>\n",
       "      <th>collegeName</th>\n",
       "      <th>lastAffiliation</th>\n",
       "      <th>country</th>\n",
       "      <th>isallStar</th>\n",
       "    </tr>\n",
       "  </thead>\n",
       "  <tbody>\n",
       "    <tr>\n",
       "      <th>0</th>\n",
       "      <td>Jaylen</td>\n",
       "      <td>Adams</td>\n",
       "      <td>Adams, Jaylen</td>\n",
       "      <td>1629121</td>\n",
       "      <td>1610612757</td>\n",
       "      <td>10</td>\n",
       "      <td>True</td>\n",
       "      <td>G</td>\n",
       "      <td>6</td>\n",
       "      <td>0</td>\n",
       "      <td>1.83</td>\n",
       "      <td>225</td>\n",
       "      <td>102.1</td>\n",
       "      <td>1996-05-04</td>\n",
       "      <td>2018</td>\n",
       "      <td>1</td>\n",
       "      <td>St. Bonaventure</td>\n",
       "      <td>St. Bonaventure/USA</td>\n",
       "      <td>USA</td>\n",
       "      <td>NaN</td>\n",
       "    </tr>\n",
       "    <tr>\n",
       "      <th>1</th>\n",
       "      <td>Steven</td>\n",
       "      <td>Adams</td>\n",
       "      <td>Adams, Steven</td>\n",
       "      <td>203500</td>\n",
       "      <td>1610612760</td>\n",
       "      <td>12</td>\n",
       "      <td>True</td>\n",
       "      <td>C</td>\n",
       "      <td>6</td>\n",
       "      <td>11</td>\n",
       "      <td>2.11</td>\n",
       "      <td>265</td>\n",
       "      <td>120.2</td>\n",
       "      <td>1993-07-20</td>\n",
       "      <td>2013</td>\n",
       "      <td>6</td>\n",
       "      <td>Pittsburgh</td>\n",
       "      <td>Pittsburgh/New Zealand</td>\n",
       "      <td>New Zealand</td>\n",
       "      <td>NaN</td>\n",
       "    </tr>\n",
       "    <tr>\n",
       "      <th>2</th>\n",
       "      <td>Bam</td>\n",
       "      <td>Adebayo</td>\n",
       "      <td>Adebayo, Bam</td>\n",
       "      <td>1628389</td>\n",
       "      <td>1610612748</td>\n",
       "      <td>13</td>\n",
       "      <td>True</td>\n",
       "      <td>C-F</td>\n",
       "      <td>6</td>\n",
       "      <td>9</td>\n",
       "      <td>2.06</td>\n",
       "      <td>255</td>\n",
       "      <td>115.7</td>\n",
       "      <td>1997-07-18</td>\n",
       "      <td>2017</td>\n",
       "      <td>2</td>\n",
       "      <td>Kentucky</td>\n",
       "      <td>Kentucky/USA</td>\n",
       "      <td>USA</td>\n",
       "      <td>NaN</td>\n",
       "    </tr>\n",
       "    <tr>\n",
       "      <th>3</th>\n",
       "      <td>LaMarcus</td>\n",
       "      <td>Aldridge</td>\n",
       "      <td>Aldridge, LaMarcus</td>\n",
       "      <td>200746</td>\n",
       "      <td>1610612759</td>\n",
       "      <td>12</td>\n",
       "      <td>True</td>\n",
       "      <td>C-F</td>\n",
       "      <td>6</td>\n",
       "      <td>11</td>\n",
       "      <td>2.11</td>\n",
       "      <td>250</td>\n",
       "      <td>113.4</td>\n",
       "      <td>1985-07-19</td>\n",
       "      <td>2006</td>\n",
       "      <td>13</td>\n",
       "      <td>Texas</td>\n",
       "      <td>Texas/USA</td>\n",
       "      <td>USA</td>\n",
       "      <td>NaN</td>\n",
       "    </tr>\n",
       "    <tr>\n",
       "      <th>4</th>\n",
       "      <td>Kyle</td>\n",
       "      <td>Alexander</td>\n",
       "      <td>Alexander, Kyle</td>\n",
       "      <td>1629734</td>\n",
       "      <td>1610612748</td>\n",
       "      <td>17</td>\n",
       "      <td>True</td>\n",
       "      <td>F-C</td>\n",
       "      <td>6</td>\n",
       "      <td>10</td>\n",
       "      <td>2.08</td>\n",
       "      <td>216</td>\n",
       "      <td>98.0</td>\n",
       "      <td>1996-10-21</td>\n",
       "      <td>2019</td>\n",
       "      <td>0</td>\n",
       "      <td>Tennessee</td>\n",
       "      <td>Tennessee/Canada</td>\n",
       "      <td>Canada</td>\n",
       "      <td>NaN</td>\n",
       "    </tr>\n",
       "    <tr>\n",
       "      <th>...</th>\n",
       "      <td>...</td>\n",
       "      <td>...</td>\n",
       "      <td>...</td>\n",
       "      <td>...</td>\n",
       "      <td>...</td>\n",
       "      <td>...</td>\n",
       "      <td>...</td>\n",
       "      <td>...</td>\n",
       "      <td>...</td>\n",
       "      <td>...</td>\n",
       "      <td>...</td>\n",
       "      <td>...</td>\n",
       "      <td>...</td>\n",
       "      <td>...</td>\n",
       "      <td>...</td>\n",
       "      <td>...</td>\n",
       "      <td>...</td>\n",
       "      <td>...</td>\n",
       "      <td>...</td>\n",
       "      <td>...</td>\n",
       "    </tr>\n",
       "    <tr>\n",
       "      <th>505</th>\n",
       "      <td>Trae</td>\n",
       "      <td>Young</td>\n",
       "      <td>Young, Trae</td>\n",
       "      <td>1629027</td>\n",
       "      <td>1610612737</td>\n",
       "      <td>11</td>\n",
       "      <td>True</td>\n",
       "      <td>G</td>\n",
       "      <td>6</td>\n",
       "      <td>1</td>\n",
       "      <td>1.85</td>\n",
       "      <td>180</td>\n",
       "      <td>81.6</td>\n",
       "      <td>1998-09-19</td>\n",
       "      <td>2018</td>\n",
       "      <td>1</td>\n",
       "      <td>Oklahoma</td>\n",
       "      <td>University of Oklahoma/USA</td>\n",
       "      <td>USA</td>\n",
       "      <td>NaN</td>\n",
       "    </tr>\n",
       "    <tr>\n",
       "      <th>506</th>\n",
       "      <td>Cody</td>\n",
       "      <td>Zeller</td>\n",
       "      <td>Zeller, Cody</td>\n",
       "      <td>203469</td>\n",
       "      <td>1610612766</td>\n",
       "      <td>40</td>\n",
       "      <td>True</td>\n",
       "      <td>F-C</td>\n",
       "      <td>7</td>\n",
       "      <td>0</td>\n",
       "      <td>2.13</td>\n",
       "      <td>240</td>\n",
       "      <td>108.9</td>\n",
       "      <td>1992-10-05</td>\n",
       "      <td>2013</td>\n",
       "      <td>6</td>\n",
       "      <td>Indiana</td>\n",
       "      <td>Indiana/USA</td>\n",
       "      <td>USA</td>\n",
       "      <td>NaN</td>\n",
       "    </tr>\n",
       "    <tr>\n",
       "      <th>507</th>\n",
       "      <td>Tyler</td>\n",
       "      <td>Zeller</td>\n",
       "      <td>Zeller, Tyler</td>\n",
       "      <td>203092</td>\n",
       "      <td>1610612759</td>\n",
       "      <td>40</td>\n",
       "      <td>True</td>\n",
       "      <td>F-C</td>\n",
       "      <td>6</td>\n",
       "      <td>11</td>\n",
       "      <td>2.11</td>\n",
       "      <td>250</td>\n",
       "      <td>113.4</td>\n",
       "      <td>1990-01-17</td>\n",
       "      <td>2012</td>\n",
       "      <td>7</td>\n",
       "      <td>North Carolina</td>\n",
       "      <td>North Carolina/USA</td>\n",
       "      <td>USA</td>\n",
       "      <td>NaN</td>\n",
       "    </tr>\n",
       "    <tr>\n",
       "      <th>508</th>\n",
       "      <td>Ante</td>\n",
       "      <td>Zizic</td>\n",
       "      <td>Zizic, Ante</td>\n",
       "      <td>1627790</td>\n",
       "      <td>1610612739</td>\n",
       "      <td>41</td>\n",
       "      <td>True</td>\n",
       "      <td>C</td>\n",
       "      <td>6</td>\n",
       "      <td>10</td>\n",
       "      <td>2.08</td>\n",
       "      <td>266</td>\n",
       "      <td>120.7</td>\n",
       "      <td>1997-01-04</td>\n",
       "      <td>2017</td>\n",
       "      <td>2</td>\n",
       "      <td></td>\n",
       "      <td>Darussafaka (Turkey)/Croatia</td>\n",
       "      <td>Croatia</td>\n",
       "      <td>NaN</td>\n",
       "    </tr>\n",
       "    <tr>\n",
       "      <th>509</th>\n",
       "      <td>Ivica</td>\n",
       "      <td>Zubac</td>\n",
       "      <td>Zubac, Ivica</td>\n",
       "      <td>1627826</td>\n",
       "      <td>1610612746</td>\n",
       "      <td>40</td>\n",
       "      <td>True</td>\n",
       "      <td>C</td>\n",
       "      <td>7</td>\n",
       "      <td>0</td>\n",
       "      <td>2.13</td>\n",
       "      <td>240</td>\n",
       "      <td>108.9</td>\n",
       "      <td>1997-03-18</td>\n",
       "      <td>2016</td>\n",
       "      <td>3</td>\n",
       "      <td></td>\n",
       "      <td>Mega Leks/Croatia</td>\n",
       "      <td>Croatia</td>\n",
       "      <td>NaN</td>\n",
       "    </tr>\n",
       "  </tbody>\n",
       "</table>\n",
       "<p>510 rows × 20 columns</p>\n",
       "</div>"
      ],
      "text/plain": [
       "    firstName   lastName temporaryDisplayName personId      teamId jersey  \\\n",
       "0      Jaylen      Adams        Adams, Jaylen  1629121  1610612757     10   \n",
       "1      Steven      Adams        Adams, Steven   203500  1610612760     12   \n",
       "2         Bam    Adebayo         Adebayo, Bam  1628389  1610612748     13   \n",
       "3    LaMarcus   Aldridge   Aldridge, LaMarcus   200746  1610612759     12   \n",
       "4        Kyle  Alexander      Alexander, Kyle  1629734  1610612748     17   \n",
       "..        ...        ...                  ...      ...         ...    ...   \n",
       "505      Trae      Young          Young, Trae  1629027  1610612737     11   \n",
       "506      Cody     Zeller         Zeller, Cody   203469  1610612766     40   \n",
       "507     Tyler     Zeller        Zeller, Tyler   203092  1610612759     40   \n",
       "508      Ante      Zizic          Zizic, Ante  1627790  1610612739     41   \n",
       "509     Ivica      Zubac         Zubac, Ivica  1627826  1610612746     40   \n",
       "\n",
       "     isActive  pos heightFeet heightInches heightMeters weightPounds  \\\n",
       "0        True    G          6            0         1.83          225   \n",
       "1        True    C          6           11         2.11          265   \n",
       "2        True  C-F          6            9         2.06          255   \n",
       "3        True  C-F          6           11         2.11          250   \n",
       "4        True  F-C          6           10         2.08          216   \n",
       "..        ...  ...        ...          ...          ...          ...   \n",
       "505      True    G          6            1         1.85          180   \n",
       "506      True  F-C          7            0         2.13          240   \n",
       "507      True  F-C          6           11         2.11          250   \n",
       "508      True    C          6           10         2.08          266   \n",
       "509      True    C          7            0         2.13          240   \n",
       "\n",
       "    weightKilograms dateOfBirthUTC nbaDebutYear yearsPro      collegeName  \\\n",
       "0             102.1     1996-05-04         2018        1  St. Bonaventure   \n",
       "1             120.2     1993-07-20         2013        6       Pittsburgh   \n",
       "2             115.7     1997-07-18         2017        2         Kentucky   \n",
       "3             113.4     1985-07-19         2006       13            Texas   \n",
       "4              98.0     1996-10-21         2019        0        Tennessee   \n",
       "..              ...            ...          ...      ...              ...   \n",
       "505            81.6     1998-09-19         2018        1         Oklahoma   \n",
       "506           108.9     1992-10-05         2013        6          Indiana   \n",
       "507           113.4     1990-01-17         2012        7   North Carolina   \n",
       "508           120.7     1997-01-04         2017        2                    \n",
       "509           108.9     1997-03-18         2016        3                    \n",
       "\n",
       "                  lastAffiliation      country isallStar  \n",
       "0             St. Bonaventure/USA          USA       NaN  \n",
       "1          Pittsburgh/New Zealand  New Zealand       NaN  \n",
       "2                    Kentucky/USA          USA       NaN  \n",
       "3                       Texas/USA          USA       NaN  \n",
       "4                Tennessee/Canada       Canada       NaN  \n",
       "..                            ...          ...       ...  \n",
       "505    University of Oklahoma/USA          USA       NaN  \n",
       "506                   Indiana/USA          USA       NaN  \n",
       "507            North Carolina/USA          USA       NaN  \n",
       "508  Darussafaka (Turkey)/Croatia      Croatia       NaN  \n",
       "509             Mega Leks/Croatia      Croatia       NaN  \n",
       "\n",
       "[510 rows x 20 columns]"
      ]
     },
     "execution_count": 15,
     "metadata": {},
     "output_type": "execute_result"
    }
   ],
   "source": [
    "players"
   ]
  },
  {
   "cell_type": "code",
   "execution_count": 16,
   "metadata": {},
   "outputs": [
    {
     "data": {
      "text/plain": [
       "numpy.ndarray"
      ]
     },
     "execution_count": 16,
     "metadata": {},
     "output_type": "execute_result"
    }
   ],
   "source": [
    "X = players['heightMeters'].values\n",
    "type(X)"
   ]
  },
  {
   "cell_type": "code",
   "execution_count": 17,
   "metadata": {},
   "outputs": [
    {
     "data": {
      "text/plain": [
       "(510,)"
      ]
     },
     "execution_count": 17,
     "metadata": {},
     "output_type": "execute_result"
    }
   ],
   "source": [
    "X.shape"
   ]
  },
  {
   "cell_type": "code",
   "execution_count": 18,
   "metadata": {},
   "outputs": [
    {
     "data": {
      "text/plain": [
       "(510, 1)"
      ]
     },
     "execution_count": 18,
     "metadata": {},
     "output_type": "execute_result"
    }
   ],
   "source": [
    "X.reshape(-1, 1).shape"
   ]
  },
  {
   "cell_type": "code",
   "execution_count": 19,
   "metadata": {},
   "outputs": [
    {
     "name": "stdout",
     "output_type": "stream",
     "text": [
      "['1.83' '2.11' '2.06' '2.11' '2.08' '1.96' '1.93' '2.11' '2.03' '1.96']\n"
     ]
    }
   ],
   "source": [
    "# 1D.\n",
    "# Print first 10 data.\n",
    "print(X[:10])"
   ]
  },
  {
   "cell_type": "code",
   "execution_count": 20,
   "metadata": {},
   "outputs": [
    {
     "data": {
      "text/plain": [
       "array([['1.83'],\n",
       "       ['2.11'],\n",
       "       ['2.06'],\n",
       "       ['2.11'],\n",
       "       ['2.08'],\n",
       "       ['1.96'],\n",
       "       ['1.93'],\n",
       "       ['2.11'],\n",
       "       ['2.03'],\n",
       "       ['1.96']], dtype=object)"
      ]
     },
     "execution_count": 20,
     "metadata": {},
     "output_type": "execute_result"
    }
   ],
   "source": [
    "# 2D.\n",
    "# Print first 10 data.\n",
    "X.reshape(-1, 1)[:10, :]"
   ]
  },
  {
   "cell_type": "code",
   "execution_count": 21,
   "metadata": {},
   "outputs": [
    {
     "data": {
      "text/plain": [
       "array([[1, 2, 3],\n",
       "       [4, 5, 6],\n",
       "       [7, 8, 9]])"
      ]
     },
     "execution_count": 21,
     "metadata": {},
     "output_type": "execute_result"
    }
   ],
   "source": [
    "arr = arr.reshape(3, 3)\n",
    "arr"
   ]
  },
  {
   "cell_type": "code",
   "execution_count": 22,
   "metadata": {},
   "outputs": [
    {
     "data": {
      "text/plain": [
       "array([1, 2, 3, 4, 5, 6, 7, 8, 9])"
      ]
     },
     "execution_count": 22,
     "metadata": {},
     "output_type": "execute_result"
    }
   ],
   "source": [
    "# Return to previous shape.\n",
    "arr.ravel()"
   ]
  },
  {
   "cell_type": "code",
   "execution_count": null,
   "metadata": {},
   "outputs": [],
   "source": []
  },
  {
   "cell_type": "code",
   "execution_count": 23,
   "metadata": {},
   "outputs": [],
   "source": [
    "# shallow-copy"
   ]
  },
  {
   "cell_type": "code",
   "execution_count": 24,
   "metadata": {},
   "outputs": [],
   "source": [
    "arr = np.arange(1, 10)\n",
    "mat = arr.reshape(3, 3) # shallow-copy"
   ]
  },
  {
   "cell_type": "code",
   "execution_count": 25,
   "metadata": {},
   "outputs": [
    {
     "name": "stdout",
     "output_type": "stream",
     "text": [
      "[1 2 3 4 5 6 7 8 9]\n",
      "2727589850768\n"
     ]
    }
   ],
   "source": [
    "print(arr)\n",
    "print(id(arr))"
   ]
  },
  {
   "cell_type": "code",
   "execution_count": 26,
   "metadata": {},
   "outputs": [
    {
     "name": "stdout",
     "output_type": "stream",
     "text": [
      "[[1 2 3]\n",
      " [4 5 6]\n",
      " [7 8 9]]\n",
      "2727589847328\n"
     ]
    }
   ],
   "source": [
    "print(mat)\n",
    "print(id(mat))"
   ]
  },
  {
   "cell_type": "code",
   "execution_count": 27,
   "metadata": {},
   "outputs": [
    {
     "name": "stdout",
     "output_type": "stream",
     "text": [
      "[[   1    2    3]\n",
      " [   4 5566    6]\n",
      " [   7    8    9]]\n"
     ]
    }
   ],
   "source": [
    "mat[1, 1] = 5566\n",
    "print(mat)"
   ]
  },
  {
   "cell_type": "code",
   "execution_count": 28,
   "metadata": {},
   "outputs": [
    {
     "name": "stdout",
     "output_type": "stream",
     "text": [
      "[   1    2    3    4 5566    6    7    8    9]\n"
     ]
    }
   ],
   "source": [
    "# Changed arr.\n",
    "print(arr)"
   ]
  },
  {
   "cell_type": "code",
   "execution_count": 29,
   "metadata": {},
   "outputs": [],
   "source": [
    "# Then we should copy first and then reshpae."
   ]
  },
  {
   "cell_type": "code",
   "execution_count": 30,
   "metadata": {},
   "outputs": [
    {
     "name": "stdout",
     "output_type": "stream",
     "text": [
      "[[   1    2    3]\n",
      " [   4 5566    6]\n",
      " [   7    8    9]]\n",
      "[1 2 3 4 5 6 7 8 9]\n"
     ]
    }
   ],
   "source": [
    "arr = np.arange(1, 10)\n",
    "mat = arr.copy()\n",
    "mat = mat.reshape(3, -1)\n",
    "mat[1, 1] = 5566\n",
    "print(mat)\n",
    "print(arr)"
   ]
  },
  {
   "cell_type": "code",
   "execution_count": null,
   "metadata": {},
   "outputs": [],
   "source": []
  },
  {
   "cell_type": "code",
   "execution_count": 31,
   "metadata": {},
   "outputs": [],
   "source": [
    "# Combine and concatenate."
   ]
  },
  {
   "cell_type": "code",
   "execution_count": 32,
   "metadata": {},
   "outputs": [
    {
     "name": "stdout",
     "output_type": "stream",
     "text": [
      "[[1 2]\n",
      " [3 4]\n",
      " [5 6]\n",
      " [7 8]]\n"
     ]
    }
   ],
   "source": [
    "arr_a = np.arange(1, 5).reshape(2, 2)\n",
    "arr_b = np.arange(5, 9).reshape(2, 2)\n",
    "print(np.concatenate([arr_a, arr_b]))"
   ]
  },
  {
   "cell_type": "code",
   "execution_count": 33,
   "metadata": {},
   "outputs": [
    {
     "name": "stdout",
     "output_type": "stream",
     "text": [
      "[[1 2 5 6]\n",
      " [3 4 7 8]]\n"
     ]
    }
   ],
   "source": [
    "print(np.concatenate([arr_a, arr_b], axis=1))"
   ]
  },
  {
   "cell_type": "code",
   "execution_count": null,
   "metadata": {},
   "outputs": [],
   "source": []
  },
  {
   "cell_type": "code",
   "execution_count": 34,
   "metadata": {},
   "outputs": [],
   "source": [
    "# Universal function."
   ]
  },
  {
   "cell_type": "code",
   "execution_count": 35,
   "metadata": {},
   "outputs": [
    {
     "name": "stdout",
     "output_type": "stream",
     "text": [
      "466 ms ± 25 ms per loop (mean ± std. dev. of 7 runs, 1 loop each)\n"
     ]
    }
   ],
   "source": [
    "long_arr = np.random.randint(1, 101, size=1000000)\n",
    "%timeit [1/i for i in long_arr]"
   ]
  },
  {
   "cell_type": "code",
   "execution_count": 36,
   "metadata": {},
   "outputs": [
    {
     "name": "stdout",
     "output_type": "stream",
     "text": [
      "4.9 ms ± 550 µs per loop (mean ± std. dev. of 7 runs, 100 loops each)\n"
     ]
    }
   ],
   "source": [
    "long_arr = np.random.randint(1, 101, size=1000000)\n",
    "%timeit np.divide(1, long_arr)"
   ]
  },
  {
   "cell_type": "code",
   "execution_count": 37,
   "metadata": {},
   "outputs": [],
   "source": [
    "def is_prime(x):\n",
    "    div_cnt = 0\n",
    "    for i in range(1, x+1):\n",
    "        if x % i == 0:\n",
    "            div_cnt += 1\n",
    "        if div_cnt > 2:\n",
    "            break\n",
    "    return div_cnt == 2"
   ]
  },
  {
   "cell_type": "code",
   "execution_count": 38,
   "metadata": {},
   "outputs": [
    {
     "data": {
      "text/plain": [
       "True"
      ]
     },
     "execution_count": 38,
     "metadata": {},
     "output_type": "execute_result"
    }
   ],
   "source": [
    "is_prime(2)"
   ]
  },
  {
   "cell_type": "code",
   "execution_count": null,
   "metadata": {},
   "outputs": [],
   "source": []
  },
  {
   "cell_type": "code",
   "execution_count": 39,
   "metadata": {},
   "outputs": [],
   "source": [
    "# Vectorize."
   ]
  },
  {
   "cell_type": "code",
   "execution_count": 40,
   "metadata": {
    "scrolled": true
   },
   "outputs": [
    {
     "data": {
      "text/plain": [
       "array([98, 34, 59, 68, 21, 76, 77, 88,  1, 32,  7, 98, 34, 48,  3, 28, 93,\n",
       "       94, 27, 22, 57, 54, 69, 24, 94, 20, 39, 44, 51, 36, 80, 45, 52, 37,\n",
       "       84, 79, 66, 31, 77,  3, 59, 90, 58,  2,  8, 38, 78, 63, 85, 54, 86,\n",
       "       66, 63, 26, 81, 79, 15, 36, 13, 62, 64, 93,  2, 50, 95, 31, 36, 99,\n",
       "       73,  7,  1, 65,  3, 49, 56, 70, 56, 42, 74, 62, 75, 58, 34, 84, 15,\n",
       "       41, 60, 40, 27, 42, 38,  1, 59, 56, 17, 49, 77, 36, 95, 62])"
      ]
     },
     "execution_count": 40,
     "metadata": {},
     "output_type": "execute_result"
    }
   ],
   "source": [
    "arr = np.random.randint(1, 100, 100)\n",
    "arr"
   ]
  },
  {
   "cell_type": "code",
   "execution_count": 41,
   "metadata": {
    "scrolled": true
   },
   "outputs": [
    {
     "data": {
      "text/plain": [
       "[False,\n",
       " False,\n",
       " True,\n",
       " False,\n",
       " False,\n",
       " False,\n",
       " False,\n",
       " False,\n",
       " False,\n",
       " False,\n",
       " True,\n",
       " False,\n",
       " False,\n",
       " False,\n",
       " True,\n",
       " False,\n",
       " False,\n",
       " False,\n",
       " False,\n",
       " False,\n",
       " False,\n",
       " False,\n",
       " False,\n",
       " False,\n",
       " False,\n",
       " False,\n",
       " False,\n",
       " False,\n",
       " False,\n",
       " False,\n",
       " False,\n",
       " False,\n",
       " False,\n",
       " True,\n",
       " False,\n",
       " True,\n",
       " False,\n",
       " True,\n",
       " False,\n",
       " True,\n",
       " True,\n",
       " False,\n",
       " False,\n",
       " True,\n",
       " False,\n",
       " False,\n",
       " False,\n",
       " False,\n",
       " False,\n",
       " False,\n",
       " False,\n",
       " False,\n",
       " False,\n",
       " False,\n",
       " False,\n",
       " True,\n",
       " False,\n",
       " False,\n",
       " True,\n",
       " False,\n",
       " False,\n",
       " False,\n",
       " True,\n",
       " False,\n",
       " False,\n",
       " True,\n",
       " False,\n",
       " False,\n",
       " True,\n",
       " True,\n",
       " False,\n",
       " False,\n",
       " True,\n",
       " False,\n",
       " False,\n",
       " False,\n",
       " False,\n",
       " False,\n",
       " False,\n",
       " False,\n",
       " False,\n",
       " False,\n",
       " False,\n",
       " False,\n",
       " False,\n",
       " True,\n",
       " False,\n",
       " False,\n",
       " False,\n",
       " False,\n",
       " False,\n",
       " False,\n",
       " True,\n",
       " False,\n",
       " True,\n",
       " False,\n",
       " False,\n",
       " False,\n",
       " False,\n",
       " False]"
      ]
     },
     "execution_count": 41,
     "metadata": {},
     "output_type": "execute_result"
    }
   ],
   "source": [
    "[is_prime(i) for i in arr]"
   ]
  },
  {
   "cell_type": "code",
   "execution_count": 42,
   "metadata": {
    "scrolled": true
   },
   "outputs": [
    {
     "name": "stdout",
     "output_type": "stream",
     "text": [
      "[False, False, True, False, False, False, False, False, False, False, True, False, False, False, True, False, False, False, False, False, False, False, False, False, False, False, False, False, False, False, False, False, False, True, False, True, False, True, False, True, True, False, False, True, False, False, False, False, False, False, False, False, False, False, False, True, False, False, True, False, False, False, True, False, False, True, False, False, True, True, False, False, True, False, False, False, False, False, False, False, False, False, False, False, False, True, False, False, False, False, False, False, True, False, True, False, False, False, False, False]\n"
     ]
    }
   ],
   "source": [
    "prime_list = [is_prime(i) for i in arr]\n",
    "print(prime_list)"
   ]
  },
  {
   "cell_type": "code",
   "execution_count": 43,
   "metadata": {},
   "outputs": [
    {
     "name": "stdout",
     "output_type": "stream",
     "text": [
      "[False, False, True, False, False, False, False, False, False, False, True, False, False, False, True, False, False, False, False, False, False, False, False, False, False, False, False, False, False, False, False, False, False, True, False, True, False, True, False, True, True, False, False, True, False, False, False, False, False, False, False, False, False, False, False, True, False, False, True, False, False, False, True, False, False, True, False, False, True, True, False, False, True, False, False, False, False, False, False, False, False, False, False, False, False, True, False, False, False, False, False, False, True, False, True, False, False, False, False, False]\n"
     ]
    }
   ],
   "source": [
    "print(prime_list)"
   ]
  },
  {
   "cell_type": "code",
   "execution_count": 44,
   "metadata": {},
   "outputs": [
    {
     "data": {
      "text/plain": [
       "function"
      ]
     },
     "execution_count": 44,
     "metadata": {},
     "output_type": "execute_result"
    }
   ],
   "source": [
    "type(is_prime)"
   ]
  },
  {
   "cell_type": "code",
   "execution_count": 45,
   "metadata": {},
   "outputs": [
    {
     "data": {
      "text/plain": [
       "numpy.vectorize"
      ]
     },
     "execution_count": 45,
     "metadata": {},
     "output_type": "execute_result"
    }
   ],
   "source": [
    "is_prime_ufunc = np.vectorize(is_prime)\n",
    "type(is_prime_ufunc)"
   ]
  },
  {
   "cell_type": "code",
   "execution_count": 46,
   "metadata": {
    "scrolled": true
   },
   "outputs": [
    {
     "data": {
      "text/plain": [
       "array([False, False,  True, False, False, False, False, False, False,\n",
       "       False,  True, False, False, False,  True, False, False, False,\n",
       "       False, False, False, False, False, False, False, False, False,\n",
       "       False, False, False, False, False, False,  True, False,  True,\n",
       "       False,  True, False,  True,  True, False, False,  True, False,\n",
       "       False, False, False, False, False, False, False, False, False,\n",
       "       False,  True, False, False,  True, False, False, False,  True,\n",
       "       False, False,  True, False, False,  True,  True, False, False,\n",
       "        True, False, False, False, False, False, False, False, False,\n",
       "       False, False, False, False,  True, False, False, False, False,\n",
       "       False, False,  True, False,  True, False, False, False, False,\n",
       "       False])"
      ]
     },
     "execution_count": 46,
     "metadata": {},
     "output_type": "execute_result"
    }
   ],
   "source": [
    "is_prime_ufunc(arr)"
   ]
  },
  {
   "cell_type": "code",
   "execution_count": null,
   "metadata": {},
   "outputs": [],
   "source": []
  },
  {
   "cell_type": "code",
   "execution_count": 47,
   "metadata": {},
   "outputs": [],
   "source": [
    "# .replace\n",
    "# .str.replace"
   ]
  },
  {
   "cell_type": "code",
   "execution_count": 48,
   "metadata": {},
   "outputs": [
    {
     "data": {
      "text/plain": [
       "'Anakin Skywalker'"
      ]
     },
     "execution_count": 48,
     "metadata": {},
     "output_type": "execute_result"
    }
   ],
   "source": [
    "# replace apply to only one object.\n",
    "\"Luke Skywalker\".replace(\"Luke\", \"Anakin\")"
   ]
  },
  {
   "cell_type": "code",
   "execution_count": 49,
   "metadata": {},
   "outputs": [
    {
     "data": {
      "text/plain": [
       "0      Luke\n",
       "1    Anakin\n",
       "dtype: object"
      ]
     },
     "execution_count": 49,
     "metadata": {},
     "output_type": "execute_result"
    }
   ],
   "source": [
    "# str.replace apply to multiple objects.\n",
    "ser = pd.Series([\"Luke Skywalker\", \"Anakin Skywalker\"])\n",
    "ser.str.replace(\" Skywalker\", \"\") # Replace \"Skywalker\" with \"\"."
   ]
  },
  {
   "cell_type": "code",
   "execution_count": null,
   "metadata": {},
   "outputs": [],
   "source": []
  }
 ],
 "metadata": {
  "kernelspec": {
   "display_name": "Python 3",
   "language": "python",
   "name": "python3"
  },
  "language_info": {
   "codemirror_mode": {
    "name": "ipython",
    "version": 3
   },
   "file_extension": ".py",
   "mimetype": "text/x-python",
   "name": "python",
   "nbconvert_exporter": "python",
   "pygments_lexer": "ipython3",
   "version": "3.8.3"
  }
 },
 "nbformat": 4,
 "nbformat_minor": 4
}
