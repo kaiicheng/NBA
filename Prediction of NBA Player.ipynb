{
 "cells": [
  {
   "cell_type": "code",
   "execution_count": 1,
   "metadata": {},
   "outputs": [
    {
     "name": "stdout",
     "output_type": "stream",
     "text": [
      "Version of Python:\n",
      "3.8.3 (default, Jul  2 2020, 17:30:36) [MSC v.1916 64 bit (AMD64)]\n"
     ]
    }
   ],
   "source": [
    "import sys\n",
    "\n",
    "print(\"Version of Python:\")\n",
    "print(sys.version)"
   ]
  },
  {
   "cell_type": "code",
   "execution_count": 2,
   "metadata": {},
   "outputs": [
    {
     "name": "stdout",
     "output_type": "stream",
     "text": [
      "requests version is 2.24.0\n",
      "NumPy version is 1.18.5\n",
      "Pandas version is 1.0.5\n",
      "Matplotlib version is 3.2.2\n",
      "Scikit-Learn version is 0.23.1\n",
      "TensorFlow version is 2.4.0-dev20200906\n"
     ]
    }
   ],
   "source": [
    "import requests\n",
    "import numpy as np\n",
    "import pandas as pd\n",
    "import matplotlib as mpl\n",
    "import matplotlib.pyplot as plt\n",
    "import sklearn\n",
    "import tensorflow as tf\n",
    "from sklearn.linear_model import LinearRegression\n",
    "from sklearn.linear_model import LogisticRegression\n",
    "\n",
    "library_names = ['requests', 'NumPy', 'Pandas', 'Matplotlib', 'Scikit-Learn', 'TensorFlow']\n",
    "library_versions = [requests.__version__, np.__version__, pd.__version__, mpl.__version__, sklearn.__version__, tf.__version__]\n",
    "for lib_n, lib_v in zip(library_names, library_versions):\n",
    "    print(\"{} version is {}\".format(lib_n, lib_v))"
   ]
  },
  {
   "cell_type": "code",
   "execution_count": 3,
   "metadata": {},
   "outputs": [],
   "source": [
    "# Download pyvizml and move to the same folder.\n",
    "from pyvizml import CreateNBAData"
   ]
  },
  {
   "cell_type": "code",
   "execution_count": 4,
   "metadata": {},
   "outputs": [],
   "source": [
    "cnd = CreateNBAData(season_year = 2019)"
   ]
  },
  {
   "cell_type": "code",
   "execution_count": 5,
   "metadata": {},
   "outputs": [
    {
     "name": "stdout",
     "output_type": "stream",
     "text": [
      "Creating players df...\n"
     ]
    }
   ],
   "source": [
    "players_df = cnd.create_players_df()"
   ]
  },
  {
   "cell_type": "code",
   "execution_count": 6,
   "metadata": {},
   "outputs": [
    {
     "data": {
      "text/html": [
       "<div>\n",
       "<style scoped>\n",
       "    .dataframe tbody tr th:only-of-type {\n",
       "        vertical-align: middle;\n",
       "    }\n",
       "\n",
       "    .dataframe tbody tr th {\n",
       "        vertical-align: top;\n",
       "    }\n",
       "\n",
       "    .dataframe thead th {\n",
       "        text-align: right;\n",
       "    }\n",
       "</style>\n",
       "<table border=\"1\" class=\"dataframe\">\n",
       "  <thead>\n",
       "    <tr style=\"text-align: right;\">\n",
       "      <th></th>\n",
       "      <th>firstName</th>\n",
       "      <th>lastName</th>\n",
       "      <th>temporaryDisplayName</th>\n",
       "      <th>personId</th>\n",
       "      <th>teamId</th>\n",
       "      <th>jersey</th>\n",
       "      <th>isActive</th>\n",
       "      <th>pos</th>\n",
       "      <th>heightFeet</th>\n",
       "      <th>heightInches</th>\n",
       "      <th>heightMeters</th>\n",
       "      <th>weightPounds</th>\n",
       "      <th>weightKilograms</th>\n",
       "      <th>dateOfBirthUTC</th>\n",
       "      <th>nbaDebutYear</th>\n",
       "      <th>yearsPro</th>\n",
       "      <th>collegeName</th>\n",
       "      <th>lastAffiliation</th>\n",
       "      <th>country</th>\n",
       "      <th>isallStar</th>\n",
       "    </tr>\n",
       "  </thead>\n",
       "  <tbody>\n",
       "    <tr>\n",
       "      <th>0</th>\n",
       "      <td>Jaylen</td>\n",
       "      <td>Adams</td>\n",
       "      <td>Adams, Jaylen</td>\n",
       "      <td>1629121</td>\n",
       "      <td>1610612757</td>\n",
       "      <td>10</td>\n",
       "      <td>True</td>\n",
       "      <td>G</td>\n",
       "      <td>6</td>\n",
       "      <td>0</td>\n",
       "      <td>1.83</td>\n",
       "      <td>225</td>\n",
       "      <td>102.1</td>\n",
       "      <td>1996-05-04</td>\n",
       "      <td>2018</td>\n",
       "      <td>1</td>\n",
       "      <td>St. Bonaventure</td>\n",
       "      <td>St. Bonaventure/USA</td>\n",
       "      <td>USA</td>\n",
       "      <td>NaN</td>\n",
       "    </tr>\n",
       "    <tr>\n",
       "      <th>1</th>\n",
       "      <td>Steven</td>\n",
       "      <td>Adams</td>\n",
       "      <td>Adams, Steven</td>\n",
       "      <td>203500</td>\n",
       "      <td>1610612760</td>\n",
       "      <td>12</td>\n",
       "      <td>True</td>\n",
       "      <td>C</td>\n",
       "      <td>6</td>\n",
       "      <td>11</td>\n",
       "      <td>2.11</td>\n",
       "      <td>265</td>\n",
       "      <td>120.2</td>\n",
       "      <td>1993-07-20</td>\n",
       "      <td>2013</td>\n",
       "      <td>6</td>\n",
       "      <td>Pittsburgh</td>\n",
       "      <td>Pittsburgh/New Zealand</td>\n",
       "      <td>New Zealand</td>\n",
       "      <td>NaN</td>\n",
       "    </tr>\n",
       "    <tr>\n",
       "      <th>2</th>\n",
       "      <td>Bam</td>\n",
       "      <td>Adebayo</td>\n",
       "      <td>Adebayo, Bam</td>\n",
       "      <td>1628389</td>\n",
       "      <td>1610612748</td>\n",
       "      <td>13</td>\n",
       "      <td>True</td>\n",
       "      <td>C-F</td>\n",
       "      <td>6</td>\n",
       "      <td>9</td>\n",
       "      <td>2.06</td>\n",
       "      <td>255</td>\n",
       "      <td>115.7</td>\n",
       "      <td>1997-07-18</td>\n",
       "      <td>2017</td>\n",
       "      <td>2</td>\n",
       "      <td>Kentucky</td>\n",
       "      <td>Kentucky/USA</td>\n",
       "      <td>USA</td>\n",
       "      <td>NaN</td>\n",
       "    </tr>\n",
       "    <tr>\n",
       "      <th>3</th>\n",
       "      <td>LaMarcus</td>\n",
       "      <td>Aldridge</td>\n",
       "      <td>Aldridge, LaMarcus</td>\n",
       "      <td>200746</td>\n",
       "      <td>1610612759</td>\n",
       "      <td>12</td>\n",
       "      <td>True</td>\n",
       "      <td>C-F</td>\n",
       "      <td>6</td>\n",
       "      <td>11</td>\n",
       "      <td>2.11</td>\n",
       "      <td>250</td>\n",
       "      <td>113.4</td>\n",
       "      <td>1985-07-19</td>\n",
       "      <td>2006</td>\n",
       "      <td>13</td>\n",
       "      <td>Texas</td>\n",
       "      <td>Texas/USA</td>\n",
       "      <td>USA</td>\n",
       "      <td>NaN</td>\n",
       "    </tr>\n",
       "    <tr>\n",
       "      <th>4</th>\n",
       "      <td>Kyle</td>\n",
       "      <td>Alexander</td>\n",
       "      <td>Alexander, Kyle</td>\n",
       "      <td>1629734</td>\n",
       "      <td>1610612748</td>\n",
       "      <td>17</td>\n",
       "      <td>True</td>\n",
       "      <td>F-C</td>\n",
       "      <td>6</td>\n",
       "      <td>10</td>\n",
       "      <td>2.08</td>\n",
       "      <td>216</td>\n",
       "      <td>98.0</td>\n",
       "      <td>1996-10-21</td>\n",
       "      <td>2019</td>\n",
       "      <td>0</td>\n",
       "      <td>Tennessee</td>\n",
       "      <td>Tennessee/Canada</td>\n",
       "      <td>Canada</td>\n",
       "      <td>NaN</td>\n",
       "    </tr>\n",
       "  </tbody>\n",
       "</table>\n",
       "</div>"
      ],
      "text/plain": [
       "  firstName   lastName temporaryDisplayName personId      teamId jersey  \\\n",
       "0    Jaylen      Adams        Adams, Jaylen  1629121  1610612757     10   \n",
       "1    Steven      Adams        Adams, Steven   203500  1610612760     12   \n",
       "2       Bam    Adebayo         Adebayo, Bam  1628389  1610612748     13   \n",
       "3  LaMarcus   Aldridge   Aldridge, LaMarcus   200746  1610612759     12   \n",
       "4      Kyle  Alexander      Alexander, Kyle  1629734  1610612748     17   \n",
       "\n",
       "   isActive  pos heightFeet heightInches heightMeters weightPounds  \\\n",
       "0      True    G          6            0         1.83          225   \n",
       "1      True    C          6           11         2.11          265   \n",
       "2      True  C-F          6            9         2.06          255   \n",
       "3      True  C-F          6           11         2.11          250   \n",
       "4      True  F-C          6           10         2.08          216   \n",
       "\n",
       "  weightKilograms dateOfBirthUTC nbaDebutYear yearsPro      collegeName  \\\n",
       "0           102.1     1996-05-04         2018        1  St. Bonaventure   \n",
       "1           120.2     1993-07-20         2013        6       Pittsburgh   \n",
       "2           115.7     1997-07-18         2017        2         Kentucky   \n",
       "3           113.4     1985-07-19         2006       13            Texas   \n",
       "4            98.0     1996-10-21         2019        0        Tennessee   \n",
       "\n",
       "          lastAffiliation      country isallStar  \n",
       "0     St. Bonaventure/USA          USA       NaN  \n",
       "1  Pittsburgh/New Zealand  New Zealand       NaN  \n",
       "2            Kentucky/USA          USA       NaN  \n",
       "3               Texas/USA          USA       NaN  \n",
       "4        Tennessee/Canada       Canada       NaN  "
      ]
     },
     "execution_count": 6,
     "metadata": {},
     "output_type": "execute_result"
    }
   ],
   "source": [
    "players_df.head()"
   ]
  },
  {
   "cell_type": "code",
   "execution_count": 7,
   "metadata": {},
   "outputs": [
    {
     "data": {
      "text/plain": [
       "(510, 20)"
      ]
     },
     "execution_count": 7,
     "metadata": {},
     "output_type": "execute_result"
    }
   ],
   "source": [
    "players_df.shape"
   ]
  },
  {
   "cell_type": "code",
   "execution_count": 8,
   "metadata": {},
   "outputs": [],
   "source": [
    "player_stats_df = pd.read_csv('player_stats.csv')"
   ]
  },
  {
   "cell_type": "code",
   "execution_count": 9,
   "metadata": {},
   "outputs": [
    {
     "data": {
      "text/html": [
       "<div>\n",
       "<style scoped>\n",
       "    .dataframe tbody tr th:only-of-type {\n",
       "        vertical-align: middle;\n",
       "    }\n",
       "\n",
       "    .dataframe tbody tr th {\n",
       "        vertical-align: top;\n",
       "    }\n",
       "\n",
       "    .dataframe thead th {\n",
       "        text-align: right;\n",
       "    }\n",
       "</style>\n",
       "<table border=\"1\" class=\"dataframe\">\n",
       "  <thead>\n",
       "    <tr style=\"text-align: right;\">\n",
       "      <th></th>\n",
       "      <th>firstName</th>\n",
       "      <th>lastName</th>\n",
       "      <th>temporaryDisplayName</th>\n",
       "      <th>personId</th>\n",
       "      <th>teamId</th>\n",
       "      <th>jersey</th>\n",
       "      <th>isActive</th>\n",
       "      <th>pos</th>\n",
       "      <th>heightFeet</th>\n",
       "      <th>heightInches</th>\n",
       "      <th>...</th>\n",
       "      <th>ftm</th>\n",
       "      <th>fta</th>\n",
       "      <th>pFouls</th>\n",
       "      <th>points</th>\n",
       "      <th>gamesPlayed</th>\n",
       "      <th>gamesStarted</th>\n",
       "      <th>plusMinus</th>\n",
       "      <th>min</th>\n",
       "      <th>dd2</th>\n",
       "      <th>td3</th>\n",
       "    </tr>\n",
       "  </thead>\n",
       "  <tbody>\n",
       "    <tr>\n",
       "      <th>0</th>\n",
       "      <td>Jaylen</td>\n",
       "      <td>Adams</td>\n",
       "      <td>Adams, Jaylen</td>\n",
       "      <td>1629121</td>\n",
       "      <td>1610612757</td>\n",
       "      <td>10.0</td>\n",
       "      <td>True</td>\n",
       "      <td>G</td>\n",
       "      <td>6</td>\n",
       "      <td>0</td>\n",
       "      <td>...</td>\n",
       "      <td>7.0</td>\n",
       "      <td>9.0</td>\n",
       "      <td>45.0</td>\n",
       "      <td>108.0</td>\n",
       "      <td>34.0</td>\n",
       "      <td>1.0</td>\n",
       "      <td>-57.0</td>\n",
       "      <td>427.0</td>\n",
       "      <td>0.0</td>\n",
       "      <td>0.0</td>\n",
       "    </tr>\n",
       "    <tr>\n",
       "      <th>1</th>\n",
       "      <td>Steven</td>\n",
       "      <td>Adams</td>\n",
       "      <td>Adams, Steven</td>\n",
       "      <td>203500</td>\n",
       "      <td>1610612760</td>\n",
       "      <td>12.0</td>\n",
       "      <td>True</td>\n",
       "      <td>C</td>\n",
       "      <td>6</td>\n",
       "      <td>11</td>\n",
       "      <td>...</td>\n",
       "      <td>876.0</td>\n",
       "      <td>1573.0</td>\n",
       "      <td>1384.0</td>\n",
       "      <td>5191.0</td>\n",
       "      <td>530.0</td>\n",
       "      <td>466.0</td>\n",
       "      <td>1619.0</td>\n",
       "      <td>14208.0</td>\n",
       "      <td>112.0</td>\n",
       "      <td>0.0</td>\n",
       "    </tr>\n",
       "    <tr>\n",
       "      <th>2</th>\n",
       "      <td>Bam</td>\n",
       "      <td>Adebayo</td>\n",
       "      <td>Adebayo, Bam</td>\n",
       "      <td>1628389</td>\n",
       "      <td>1610612748</td>\n",
       "      <td>13.0</td>\n",
       "      <td>True</td>\n",
       "      <td>C-F</td>\n",
       "      <td>6</td>\n",
       "      <td>9</td>\n",
       "      <td>...</td>\n",
       "      <td>559.0</td>\n",
       "      <td>787.0</td>\n",
       "      <td>523.0</td>\n",
       "      <td>2352.0</td>\n",
       "      <td>223.0</td>\n",
       "      <td>119.0</td>\n",
       "      <td>234.0</td>\n",
       "      <td>5697.0</td>\n",
       "      <td>58.0</td>\n",
       "      <td>3.0</td>\n",
       "    </tr>\n",
       "    <tr>\n",
       "      <th>3</th>\n",
       "      <td>LaMarcus</td>\n",
       "      <td>Aldridge</td>\n",
       "      <td>Aldridge, LaMarcus</td>\n",
       "      <td>200746</td>\n",
       "      <td>1610612759</td>\n",
       "      <td>12.0</td>\n",
       "      <td>True</td>\n",
       "      <td>C-F</td>\n",
       "      <td>6</td>\n",
       "      <td>11</td>\n",
       "      <td>...</td>\n",
       "      <td>3579.0</td>\n",
       "      <td>4414.0</td>\n",
       "      <td>2473.0</td>\n",
       "      <td>19599.0</td>\n",
       "      <td>1003.0</td>\n",
       "      <td>962.0</td>\n",
       "      <td>2799.0</td>\n",
       "      <td>34517.0</td>\n",
       "      <td>351.0</td>\n",
       "      <td>0.0</td>\n",
       "    </tr>\n",
       "    <tr>\n",
       "      <th>4</th>\n",
       "      <td>Kyle</td>\n",
       "      <td>Alexander</td>\n",
       "      <td>Alexander, Kyle</td>\n",
       "      <td>1629734</td>\n",
       "      <td>1610612748</td>\n",
       "      <td>17.0</td>\n",
       "      <td>True</td>\n",
       "      <td>F-C</td>\n",
       "      <td>6</td>\n",
       "      <td>10</td>\n",
       "      <td>...</td>\n",
       "      <td>0.0</td>\n",
       "      <td>0.0</td>\n",
       "      <td>1.0</td>\n",
       "      <td>2.0</td>\n",
       "      <td>2.0</td>\n",
       "      <td>0.0</td>\n",
       "      <td>-3.0</td>\n",
       "      <td>13.0</td>\n",
       "      <td>0.0</td>\n",
       "      <td>0.0</td>\n",
       "    </tr>\n",
       "  </tbody>\n",
       "</table>\n",
       "<p>5 rows × 50 columns</p>\n",
       "</div>"
      ],
      "text/plain": [
       "  firstName   lastName temporaryDisplayName  personId      teamId  jersey  \\\n",
       "0    Jaylen      Adams        Adams, Jaylen   1629121  1610612757    10.0   \n",
       "1    Steven      Adams        Adams, Steven    203500  1610612760    12.0   \n",
       "2       Bam    Adebayo         Adebayo, Bam   1628389  1610612748    13.0   \n",
       "3  LaMarcus   Aldridge   Aldridge, LaMarcus    200746  1610612759    12.0   \n",
       "4      Kyle  Alexander      Alexander, Kyle   1629734  1610612748    17.0   \n",
       "\n",
       "   isActive  pos  heightFeet  heightInches  ...     ftm     fta  pFouls  \\\n",
       "0      True    G           6             0  ...     7.0     9.0    45.0   \n",
       "1      True    C           6            11  ...   876.0  1573.0  1384.0   \n",
       "2      True  C-F           6             9  ...   559.0   787.0   523.0   \n",
       "3      True  C-F           6            11  ...  3579.0  4414.0  2473.0   \n",
       "4      True  F-C           6            10  ...     0.0     0.0     1.0   \n",
       "\n",
       "    points  gamesPlayed  gamesStarted plusMinus      min    dd2  td3  \n",
       "0    108.0         34.0           1.0     -57.0    427.0    0.0  0.0  \n",
       "1   5191.0        530.0         466.0    1619.0  14208.0  112.0  0.0  \n",
       "2   2352.0        223.0         119.0     234.0   5697.0   58.0  3.0  \n",
       "3  19599.0       1003.0         962.0    2799.0  34517.0  351.0  0.0  \n",
       "4      2.0          2.0           0.0      -3.0     13.0    0.0  0.0  \n",
       "\n",
       "[5 rows x 50 columns]"
      ]
     },
     "execution_count": 9,
     "metadata": {},
     "output_type": "execute_result"
    }
   ],
   "source": [
    "player_stats_df.head()"
   ]
  },
  {
   "cell_type": "code",
   "execution_count": 10,
   "metadata": {},
   "outputs": [
    {
     "data": {
      "text/plain": [
       "(510, 50)"
      ]
     },
     "execution_count": 10,
     "metadata": {},
     "output_type": "execute_result"
    }
   ],
   "source": [
    "player_stats_df.shape"
   ]
  },
  {
   "cell_type": "code",
   "execution_count": null,
   "metadata": {},
   "outputs": [],
   "source": []
  },
  {
   "cell_type": "code",
   "execution_count": 11,
   "metadata": {},
   "outputs": [],
   "source": [
    "# Numerical prediction."
   ]
  },
  {
   "cell_type": "code",
   "execution_count": 12,
   "metadata": {},
   "outputs": [
    {
     "name": "stdout",
     "output_type": "stream",
     "text": [
      "<class 'pandas.core.frame.DataFrame'>\n",
      "<class 'pandas.core.series.Series'>\n",
      "<class 'numpy.ndarray'>\n",
      "<class 'numpy.ndarray'>\n"
     ]
    }
   ],
   "source": [
    "print(type(player_stats_df))\n",
    "print(type(player_stats_df['heightMeters']))\n",
    "print(type(player_stats_df['heightMeters'].values))\n",
    "print(type(player_stats_df['weightKilograms'].values))"
   ]
  },
  {
   "cell_type": "code",
   "execution_count": 13,
   "metadata": {},
   "outputs": [],
   "source": [
    "# 1D => x, 2D => X\n",
    "X = player_stats_df['heightMeters'].values.reshape(-1, 1)\n",
    "y = player_stats_df['weightKilograms'].values\n",
    "lr = LinearRegression()\n",
    "h = lr.fit(X,y)"
   ]
  },
  {
   "cell_type": "code",
   "execution_count": 14,
   "metadata": {},
   "outputs": [
    {
     "data": {
      "text/html": [
       "<div>\n",
       "<style scoped>\n",
       "    .dataframe tbody tr th:only-of-type {\n",
       "        vertical-align: middle;\n",
       "    }\n",
       "\n",
       "    .dataframe tbody tr th {\n",
       "        vertical-align: top;\n",
       "    }\n",
       "\n",
       "    .dataframe thead th {\n",
       "        text-align: right;\n",
       "    }\n",
       "</style>\n",
       "<table border=\"1\" class=\"dataframe\">\n",
       "  <thead>\n",
       "    <tr style=\"text-align: right;\">\n",
       "      <th></th>\n",
       "      <th>firstName</th>\n",
       "      <th>lastName</th>\n",
       "      <th>temporaryDisplayName</th>\n",
       "      <th>personId</th>\n",
       "      <th>teamId</th>\n",
       "      <th>jersey</th>\n",
       "      <th>isActive</th>\n",
       "      <th>pos</th>\n",
       "      <th>heightFeet</th>\n",
       "      <th>heightInches</th>\n",
       "      <th>heightMeters</th>\n",
       "      <th>weightPounds</th>\n",
       "      <th>weightKilograms</th>\n",
       "      <th>dateOfBirthUTC</th>\n",
       "      <th>nbaDebutYear</th>\n",
       "      <th>yearsPro</th>\n",
       "      <th>collegeName</th>\n",
       "      <th>lastAffiliation</th>\n",
       "      <th>country</th>\n",
       "      <th>isallStar</th>\n",
       "    </tr>\n",
       "  </thead>\n",
       "  <tbody>\n",
       "    <tr>\n",
       "      <th>496</th>\n",
       "      <td>Zion</td>\n",
       "      <td>Williamson</td>\n",
       "      <td>Williamson, Zion</td>\n",
       "      <td>1629627</td>\n",
       "      <td>1610612740</td>\n",
       "      <td>1</td>\n",
       "      <td>True</td>\n",
       "      <td>F</td>\n",
       "      <td>6</td>\n",
       "      <td>6</td>\n",
       "      <td>1.98</td>\n",
       "      <td>284</td>\n",
       "      <td>128.8</td>\n",
       "      <td>2000-07-06</td>\n",
       "      <td>2019</td>\n",
       "      <td>0</td>\n",
       "      <td>Duke</td>\n",
       "      <td>Duke University/USA</td>\n",
       "      <td>USA</td>\n",
       "      <td>NaN</td>\n",
       "    </tr>\n",
       "  </tbody>\n",
       "</table>\n",
       "</div>"
      ],
      "text/plain": [
       "    firstName    lastName temporaryDisplayName personId      teamId jersey  \\\n",
       "496      Zion  Williamson     Williamson, Zion  1629627  1610612740      1   \n",
       "\n",
       "     isActive pos heightFeet heightInches heightMeters weightPounds  \\\n",
       "496      True   F          6            6         1.98          284   \n",
       "\n",
       "    weightKilograms dateOfBirthUTC nbaDebutYear yearsPro collegeName  \\\n",
       "496           128.8     2000-07-06         2019        0        Duke   \n",
       "\n",
       "         lastAffiliation country isallStar  \n",
       "496  Duke University/USA     USA       NaN  "
      ]
     },
     "execution_count": 14,
     "metadata": {},
     "output_type": "execute_result"
    }
   ],
   "source": [
    "players_df[players_df['firstName'] == 'Zion']"
   ]
  },
  {
   "cell_type": "code",
   "execution_count": 15,
   "metadata": {},
   "outputs": [
    {
     "data": {
      "text/plain": [
       "array([97.67830728])"
      ]
     },
     "execution_count": 15,
     "metadata": {},
     "output_type": "execute_result"
    }
   ],
   "source": [
    "klay_thompson = np.array([[1.98]])\n",
    "h.predict(klay_thompson)"
   ]
  },
  {
   "cell_type": "code",
   "execution_count": null,
   "metadata": {},
   "outputs": [],
   "source": []
  },
  {
   "cell_type": "code",
   "execution_count": 16,
   "metadata": {},
   "outputs": [],
   "source": [
    "# Categorical prediction"
   ]
  },
  {
   "cell_type": "code",
   "execution_count": 17,
   "metadata": {},
   "outputs": [
    {
     "name": "stdout",
     "output_type": "stream",
     "text": [
      "{0: 'G', 1: 'C', 2: 'C-F', 3: 'F-C', 4: 'F', 5: 'F-G', 6: 'G-F'}\n",
      "{'G': 0, 'C': 1, 'C-F': 2, 'F-C': 3, 'F': 4, 'F-G': 5, 'G-F': 6}\n"
     ]
    }
   ],
   "source": [
    "unique_pos = player_stats_df['pos'].unique()\n",
    "pos_dict = {i: p for i, p in enumerate(unique_pos)}\n",
    "pos_dict_reversed = {v: k for k, v in pos_dict.items()}\n",
    "print(pos_dict)\n",
    "print(pos_dict_reversed)"
   ]
  },
  {
   "cell_type": "code",
   "execution_count": 18,
   "metadata": {},
   "outputs": [],
   "source": [
    "X = player_stats_df[['apg', 'rpg']]\n",
    "pos = player_stats_df['pos'].map(pos_dict_reversed)\n",
    "y = pos.values\n",
    "logit = LogisticRegression()\n",
    "h = logit.fit(X, y)"
   ]
  },
  {
   "cell_type": "code",
   "execution_count": 19,
   "metadata": {},
   "outputs": [
    {
     "data": {
      "text/html": [
       "<div>\n",
       "<style scoped>\n",
       "    .dataframe tbody tr th:only-of-type {\n",
       "        vertical-align: middle;\n",
       "    }\n",
       "\n",
       "    .dataframe tbody tr th {\n",
       "        vertical-align: top;\n",
       "    }\n",
       "\n",
       "    .dataframe thead th {\n",
       "        text-align: right;\n",
       "    }\n",
       "</style>\n",
       "<table border=\"1\" class=\"dataframe\">\n",
       "  <thead>\n",
       "    <tr style=\"text-align: right;\">\n",
       "      <th></th>\n",
       "      <th>firstName</th>\n",
       "      <th>lastName</th>\n",
       "      <th>temporaryDisplayName</th>\n",
       "      <th>personId</th>\n",
       "      <th>teamId</th>\n",
       "      <th>jersey</th>\n",
       "      <th>isActive</th>\n",
       "      <th>pos</th>\n",
       "      <th>heightFeet</th>\n",
       "      <th>heightInches</th>\n",
       "      <th>...</th>\n",
       "      <th>ftm</th>\n",
       "      <th>fta</th>\n",
       "      <th>pFouls</th>\n",
       "      <th>points</th>\n",
       "      <th>gamesPlayed</th>\n",
       "      <th>gamesStarted</th>\n",
       "      <th>plusMinus</th>\n",
       "      <th>min</th>\n",
       "      <th>dd2</th>\n",
       "      <th>td3</th>\n",
       "    </tr>\n",
       "  </thead>\n",
       "  <tbody>\n",
       "    <tr>\n",
       "      <th>496</th>\n",
       "      <td>Zion</td>\n",
       "      <td>Williamson</td>\n",
       "      <td>Williamson, Zion</td>\n",
       "      <td>1629627</td>\n",
       "      <td>1610612740</td>\n",
       "      <td>1.0</td>\n",
       "      <td>True</td>\n",
       "      <td>F</td>\n",
       "      <td>6</td>\n",
       "      <td>6</td>\n",
       "      <td>...</td>\n",
       "      <td>114.0</td>\n",
       "      <td>178.0</td>\n",
       "      <td>42.0</td>\n",
       "      <td>540.0</td>\n",
       "      <td>24.0</td>\n",
       "      <td>24.0</td>\n",
       "      <td>62.0</td>\n",
       "      <td>668.0</td>\n",
       "      <td>2.0</td>\n",
       "      <td>0.0</td>\n",
       "    </tr>\n",
       "  </tbody>\n",
       "</table>\n",
       "<p>1 rows × 50 columns</p>\n",
       "</div>"
      ],
      "text/plain": [
       "    firstName    lastName temporaryDisplayName  personId      teamId  jersey  \\\n",
       "496      Zion  Williamson     Williamson, Zion   1629627  1610612740     1.0   \n",
       "\n",
       "     isActive pos  heightFeet  heightInches  ...    ftm    fta  pFouls points  \\\n",
       "496      True   F           6             6  ...  114.0  178.0    42.0  540.0   \n",
       "\n",
       "     gamesPlayed  gamesStarted plusMinus    min  dd2  td3  \n",
       "496         24.0          24.0      62.0  668.0  2.0  0.0  \n",
       "\n",
       "[1 rows x 50 columns]"
      ]
     },
     "execution_count": 19,
     "metadata": {},
     "output_type": "execute_result"
    }
   ],
   "source": [
    "player_stats_df[players_df['firstName'] == 'Zion']"
   ]
  },
  {
   "cell_type": "code",
   "execution_count": 20,
   "metadata": {
    "scrolled": true
   },
   "outputs": [
    {
     "data": {
      "text/html": [
       "<div>\n",
       "<style scoped>\n",
       "    .dataframe tbody tr th:only-of-type {\n",
       "        vertical-align: middle;\n",
       "    }\n",
       "\n",
       "    .dataframe tbody tr th {\n",
       "        vertical-align: top;\n",
       "    }\n",
       "\n",
       "    .dataframe thead th {\n",
       "        text-align: right;\n",
       "    }\n",
       "</style>\n",
       "<table border=\"1\" class=\"dataframe\">\n",
       "  <thead>\n",
       "    <tr style=\"text-align: right;\">\n",
       "      <th></th>\n",
       "      <th>apg</th>\n",
       "      <th>rpg</th>\n",
       "    </tr>\n",
       "  </thead>\n",
       "  <tbody>\n",
       "    <tr>\n",
       "      <th>496</th>\n",
       "      <td>2.1</td>\n",
       "      <td>6.3</td>\n",
       "    </tr>\n",
       "  </tbody>\n",
       "</table>\n",
       "</div>"
      ],
      "text/plain": [
       "     apg  rpg\n",
       "496  2.1  6.3"
      ]
     },
     "execution_count": 20,
     "metadata": {},
     "output_type": "execute_result"
    }
   ],
   "source": [
    "player_stats_df[players_df['firstName'] == 'Zion'][['apg', 'rpg']]"
   ]
  },
  {
   "cell_type": "code",
   "execution_count": 21,
   "metadata": {},
   "outputs": [
    {
     "data": {
      "text/plain": [
       "(1, 2)"
      ]
     },
     "execution_count": 21,
     "metadata": {},
     "output_type": "execute_result"
    }
   ],
   "source": [
    "zion_williamson = np.array([2.1, 6.3]).reshape(1, 2)\n",
    "zion_williamson.shape"
   ]
  },
  {
   "cell_type": "code",
   "execution_count": 22,
   "metadata": {},
   "outputs": [
    {
     "data": {
      "text/plain": [
       "'F'"
      ]
     },
     "execution_count": 22,
     "metadata": {},
     "output_type": "execute_result"
    }
   ],
   "source": [
    "pos_dict[h.predict(zion_williamson)[0]]"
   ]
  },
  {
   "cell_type": "code",
   "execution_count": null,
   "metadata": {},
   "outputs": [],
   "source": []
  },
  {
   "cell_type": "code",
   "execution_count": 23,
   "metadata": {},
   "outputs": [
    {
     "data": {
      "text/html": [
       "<div>\n",
       "<style scoped>\n",
       "    .dataframe tbody tr th:only-of-type {\n",
       "        vertical-align: middle;\n",
       "    }\n",
       "\n",
       "    .dataframe tbody tr th {\n",
       "        vertical-align: top;\n",
       "    }\n",
       "\n",
       "    .dataframe thead th {\n",
       "        text-align: right;\n",
       "    }\n",
       "</style>\n",
       "<table border=\"1\" class=\"dataframe\">\n",
       "  <thead>\n",
       "    <tr style=\"text-align: right;\">\n",
       "      <th></th>\n",
       "      <th>firstName</th>\n",
       "      <th>lastName</th>\n",
       "      <th>temporaryDisplayName</th>\n",
       "      <th>personId</th>\n",
       "      <th>teamId</th>\n",
       "      <th>jersey</th>\n",
       "      <th>isActive</th>\n",
       "      <th>pos</th>\n",
       "      <th>heightFeet</th>\n",
       "      <th>heightInches</th>\n",
       "      <th>...</th>\n",
       "      <th>ftm</th>\n",
       "      <th>fta</th>\n",
       "      <th>pFouls</th>\n",
       "      <th>points</th>\n",
       "      <th>gamesPlayed</th>\n",
       "      <th>gamesStarted</th>\n",
       "      <th>plusMinus</th>\n",
       "      <th>min</th>\n",
       "      <th>dd2</th>\n",
       "      <th>td3</th>\n",
       "    </tr>\n",
       "  </thead>\n",
       "  <tbody>\n",
       "    <tr>\n",
       "      <th>114</th>\n",
       "      <td>Stephen</td>\n",
       "      <td>Curry</td>\n",
       "      <td>Curry, Stephen</td>\n",
       "      <td>201939</td>\n",
       "      <td>1610612744</td>\n",
       "      <td>30.0</td>\n",
       "      <td>True</td>\n",
       "      <td>G</td>\n",
       "      <td>6</td>\n",
       "      <td>3</td>\n",
       "      <td>...</td>\n",
       "      <td>2560.0</td>\n",
       "      <td>2827.0</td>\n",
       "      <td>1732.0</td>\n",
       "      <td>16419.0</td>\n",
       "      <td>699.0</td>\n",
       "      <td>693.0</td>\n",
       "      <td>4680.0</td>\n",
       "      <td>23998.0</td>\n",
       "      <td>119.0</td>\n",
       "      <td>7.0</td>\n",
       "    </tr>\n",
       "  </tbody>\n",
       "</table>\n",
       "<p>1 rows × 50 columns</p>\n",
       "</div>"
      ],
      "text/plain": [
       "    firstName lastName temporaryDisplayName  personId      teamId  jersey  \\\n",
       "114   Stephen    Curry       Curry, Stephen    201939  1610612744    30.0   \n",
       "\n",
       "     isActive pos  heightFeet  heightInches  ...     ftm     fta  pFouls  \\\n",
       "114      True   G           6             3  ...  2560.0  2827.0  1732.0   \n",
       "\n",
       "      points  gamesPlayed  gamesStarted plusMinus      min    dd2  td3  \n",
       "114  16419.0        699.0         693.0    4680.0  23998.0  119.0  7.0  \n",
       "\n",
       "[1 rows x 50 columns]"
      ]
     },
     "execution_count": 23,
     "metadata": {},
     "output_type": "execute_result"
    }
   ],
   "source": [
    "player_stats_df[players_df['firstName'] == 'Stephen']"
   ]
  },
  {
   "cell_type": "code",
   "execution_count": 24,
   "metadata": {},
   "outputs": [
    {
     "data": {
      "text/plain": [
       "'G'"
      ]
     },
     "execution_count": 24,
     "metadata": {},
     "output_type": "execute_result"
    }
   ],
   "source": [
    "stephen_curry = np.array([6.6, 4.5]).reshape(1, 2)\n",
    "pos_dict[h.predict(stephen_curry)[0]]"
   ]
  },
  {
   "cell_type": "code",
   "execution_count": 25,
   "metadata": {
    "scrolled": true
   },
   "outputs": [
    {
     "name": "stdout",
     "output_type": "stream",
     "text": [
      "G\n",
      "F\n",
      "C\n"
     ]
    }
   ],
   "source": [
    "print(pos_dict[h.predict(np.array([[5, 5]]))[0]]) # 預測場均助攻 5 場均籃板 5 的 NBA 球員鋒衛位置\n",
    "print(pos_dict[h.predict(np.array([[5, 10]]))[0]]) # 預測場均助攻 5 場均籃板 10 的 NBA 球員鋒衛位置\n",
    "print(pos_dict[h.predict(np.array([[5, 15]]))[0]]) # 預測場均助攻 5 場均籃板 15 的 NBA 球員鋒衛位置"
   ]
  }
 ],
 "metadata": {
  "kernelspec": {
   "display_name": "Python 3",
   "language": "python",
   "name": "python3"
  },
  "language_info": {
   "codemirror_mode": {
    "name": "ipython",
    "version": 3
   },
   "file_extension": ".py",
   "mimetype": "text/x-python",
   "name": "python",
   "nbconvert_exporter": "python",
   "pygments_lexer": "ipython3",
   "version": "3.8.3"
  }
 },
 "nbformat": 4,
 "nbformat_minor": 4
}
